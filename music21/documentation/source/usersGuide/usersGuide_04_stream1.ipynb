{
 "metadata": {
  "name": "",
  "signature": "sha256:bb3375f26fec4b0886552af3becc4974c6f78ecfcedd92a3326d2ad100e98770"
 },
 "nbformat": 3,
 "nbformat_minor": 0,
 "worksheets": [
  {
   "cells": [
    {
     "cell_type": "code",
     "collapsed": false,
     "input": [
      "# ignore this\n",
      "%xmode plain\n",
      "%load_ext music21.ipython21.ipExtension"
     ],
     "language": "python",
     "metadata": {},
     "outputs": [
      {
       "output_type": "stream",
       "stream": "stdout",
       "text": [
        "Exception reporting mode: Plain\n"
       ]
      },
      {
       "html": [
        "\n",
        "     <script src='http://web.mit.edu/music21/music21j/ext/require/require.js'></script>\n",
        "     <script>\n",
        "    require.config(\n",
        "       { baseUrl: \"http://web.mit.edu/music21/music21j/src/\",\n",
        "         paths: {'music21': 'http://web.mit.edu/music21/music21j/src/music21',}\n",
        "        });\n",
        "    require(['music21'], function () {\n",
        "          var n = new music21.note.Note(\"D#4\");\n",
        "          var s = new music21.stream.Stream();\n",
        "          s.append(n);\n",
        "          console.log('music21 loaded fine');\n",
        "    });\n",
        "    </script>\n",
        "    "
       ],
       "metadata": {},
       "output_type": "display_data",
       "text": [
        "<IPython.core.display.HTML at 0x1073a4c50>"
       ]
      }
     ],
     "prompt_number": 3
    },
    {
     "cell_type": "heading",
     "level": 1,
     "metadata": {},
     "source": [
      "User's Guide, Chapter 4: Lists, Streams (I) and Output"
     ]
    },
    {
     "cell_type": "markdown",
     "metadata": {},
     "source": [
      "In the last two chapters, I introduced the concept of\n",
      ":class:`~music21.note.Note` objects which are made up of\n",
      ":class:`~music21.pitch.Pitch` and :class:`~music21.duration.Duration`\n",
      "objects, and we even displayed a Note on a staff and played it\n",
      "via MIDI.  But unless you're challenging Cage and Webern for the\n",
      "status of least musical material, you will probably want to\n",
      "analyze, manipulate, or create more than one Note.\n",
      "\n",
      "Python has ways of working with multiple objects and `music21`\n",
      "extends those ways to be more musical.  Let's look at how\n",
      "Python does it first and then see how `music21` extends these\n",
      "ways.  (If you've been programming for a bit, or especially\n",
      "if you have Python experience, skip to the section on\n",
      "Streams below after creating the objects `note1`, `note2` and\n",
      "`note3` described below)."
     ]
    },
    {
     "cell_type": "markdown",
     "metadata": {},
     "source": [
      "Say you have two notes, a C and an F# in the middle of the treble staff. \n",
      "(If the concept of working with a tritone bothers you, go ahead and make\n",
      "the second note a G; we won't mind; we'll just call you Pope\n",
      "Gregory from now on).  Lets create those notes:"
     ]
    },
    {
     "cell_type": "heading",
     "level": 2,
     "metadata": {},
     "source": [
      "Working with multiple objects via Lists"
     ]
    },
    {
     "cell_type": "code",
     "collapsed": false,
     "input": [
      "from music21 import *\n",
      "note1 = note.Note(\"C4\")\n",
      "note2 = note.Note(\"F#4\")"
     ],
     "language": "python",
     "metadata": {},
     "outputs": [],
     "prompt_number": 4
    },
    {
     "cell_type": "markdown",
     "metadata": {},
     "source": [
      "Let's make the first note a half note by modifying its duration (by default\n",
      "all `Note` objects are quarter notes):"
     ]
    },
    {
     "cell_type": "code",
     "collapsed": false,
     "input": [
      "note1.duration.type = 'half'\n",
      "note1.duration.quarterLength"
     ],
     "language": "python",
     "metadata": {},
     "outputs": [
      {
       "metadata": {},
       "output_type": "pyout",
       "prompt_number": 5,
       "text": [
        "2.0"
       ]
      }
     ],
     "prompt_number": 5
    },
    {
     "cell_type": "code",
     "collapsed": false,
     "input": [
      "note2.duration.quarterLength"
     ],
     "language": "python",
     "metadata": {},
     "outputs": [
      {
       "metadata": {},
       "output_type": "pyout",
       "prompt_number": 6,
       "text": [
        "1.0"
       ]
      }
     ],
     "prompt_number": 6
    },
    {
     "cell_type": "markdown",
     "metadata": {},
     "source": [
      "To print the `step` (that is, the name without any octave or accidental\n",
      "information) of each of these notes, you could do something like this:"
     ]
    },
    {
     "cell_type": "code",
     "collapsed": false,
     "input": [
      "print(note1.step)"
     ],
     "language": "python",
     "metadata": {},
     "outputs": [
      {
       "output_type": "stream",
       "stream": "stdout",
       "text": [
        "C\n"
       ]
      }
     ],
     "prompt_number": 7
    },
    {
     "cell_type": "code",
     "collapsed": false,
     "input": [
      "print(note2.step)"
     ],
     "language": "python",
     "metadata": {},
     "outputs": [
      {
       "output_type": "stream",
       "stream": "stdout",
       "text": [
        "F\n"
       ]
      }
     ],
     "prompt_number": 8
    },
    {
     "cell_type": "markdown",
     "metadata": {},
     "source": [
      "But suppose you had thirty notes?  Then it'd be a pain to type \"`print noteX.step`\"\n",
      "thirty times.  Fortunately, there's a solution: we can put each of the \n",
      "note objects into a `List` which is a built in Python object that stores multiple\n",
      "other objects (like Notes or Chords, or even things like numbers).  To create\n",
      "a list in Python, put square brackets (`[]`) around the things that you want\n",
      "to put in the list, separated by commas.  Let's create a list called `noteList`\n",
      "that contains note1 and note2:"
     ]
    },
    {
     "cell_type": "code",
     "collapsed": false,
     "input": [
      "noteList = [note1, note2]"
     ],
     "language": "python",
     "metadata": {},
     "outputs": [],
     "prompt_number": 10
    },
    {
     "cell_type": "markdown",
     "metadata": {},
     "source": [
      "We can check that `noteList` contains our Notes by printing it:"
     ]
    },
    {
     "cell_type": "code",
     "collapsed": false,
     "input": [
      "print(noteList)"
     ],
     "language": "python",
     "metadata": {},
     "outputs": [
      {
       "output_type": "stream",
       "stream": "stdout",
       "text": [
        "[<music21.note.Note C>, <music21.note.Note F#>]\n"
       ]
      }
     ],
     "prompt_number": 11
    },
    {
     "cell_type": "markdown",
     "metadata": {},
     "source": [
      "Now we can write a two-line program that will print the step of each note in noteList.\n",
      "Most modern languages have a way of doing some action for each member (\"element\") in\n",
      "a list (also called an \"array\" or sometimes \"row\").  In Python this is the \"for\" command.\n",
      "When you type these lines, don't type the `\"... \"` just like you're not typing the `\">>> \"`\n",
      "line, but do type the spaces at the start of the second line.  (When you're done typing\n",
      "`print(thisNote.step)`, you'll probably have to hit enter twice to see the results.)"
     ]
    },
    {
     "cell_type": "code",
     "collapsed": false,
     "input": [
      "for thisNote in noteList:\n",
      "    print(thisNote.step)"
     ],
     "language": "python",
     "metadata": {},
     "outputs": [
      {
       "output_type": "stream",
       "stream": "stdout",
       "text": [
        "C\n",
        "F\n"
       ]
      }
     ],
     "prompt_number": 12
    },
    {
     "cell_type": "markdown",
     "metadata": {},
     "source": [
      "What's happening here? What ``for thisNote in noteList:`` says is that Python should\n",
      "take each note in noteList in order and temporarily call that note \"`thisNote`\" (you\n",
      "could have it called anything you want; `myNote`, `n`, `currentNote` are all good\n",
      "names, but `note` is not because `note` is the name of a module).  Then the \":\" at\n",
      "the end of the line indicates that everything that happens for a bit will apply\n",
      "to every `Note` in noteList one at a time.  How does Python know when \"a bit\" is\n",
      "over?  Simple: every line that is a part of the loop needs to be indented by putting\n",
      "in some spaces (I usually use four spaces or hit tab.  Some people use two spaces.  \n",
      "Just be consistent)."
     ]
    },
    {
     "cell_type": "markdown",
     "metadata": {},
     "source": [
      "Loops don't save much time here, but imagine if noteList had dozens or hundreds\n",
      "of Notes in it?  Then the ability to do something to each object becomes more and\n",
      "more important."
     ]
    },
    {
     "cell_type": "markdown",
     "metadata": {},
     "source": [
      "Let's add another note to noteList.  First let's create another note, a low B-flat:"
     ]
    },
    {
     "cell_type": "code",
     "collapsed": false,
     "input": [
      "note3 = note.Note(\"B-2\")"
     ],
     "language": "python",
     "metadata": {},
     "outputs": [],
     "prompt_number": 14
    },
    {
     "cell_type": "markdown",
     "metadata": {},
     "source": [
      "Then we'll append that note to the end of noteList:"
     ]
    },
    {
     "cell_type": "code",
     "collapsed": false,
     "input": [
      "noteList.append(note3)"
     ],
     "language": "python",
     "metadata": {},
     "outputs": [],
     "prompt_number": 15
    },
    {
     "cell_type": "markdown",
     "metadata": {},
     "source": [
      "We can see that the length of noteList is now 3 using the `len()` function:"
     ]
    },
    {
     "cell_type": "code",
     "collapsed": false,
     "input": [
      "len(noteList)"
     ],
     "language": "python",
     "metadata": {},
     "outputs": [
      {
       "metadata": {},
       "output_type": "pyout",
       "prompt_number": 17,
       "text": [
        "3"
       ]
      }
     ],
     "prompt_number": 17
    },
    {
     "cell_type": "markdown",
     "metadata": {},
     "source": [
      "And if we write our looping function again, we will get a third note:"
     ]
    },
    {
     "cell_type": "code",
     "collapsed": false,
     "input": [
      "for thisNote in noteList:\n",
      "    print(thisNote.step)"
     ],
     "language": "python",
     "metadata": {},
     "outputs": [
      {
       "output_type": "stream",
       "stream": "stdout",
       "text": [
        "C\n",
        "F\n",
        "B\n"
       ]
      }
     ],
     "prompt_number": 18
    },
    {
     "cell_type": "markdown",
     "metadata": {},
     "source": [
      "We can find out what the first note of noteList is by writing:"
     ]
    },
    {
     "cell_type": "code",
     "collapsed": false,
     "input": [
      "noteList[0]"
     ],
     "language": "python",
     "metadata": {},
     "outputs": [
      {
       "metadata": {},
       "output_type": "pyout",
       "prompt_number": 19,
       "text": [
        "<music21.note.Note C>"
       ]
      }
     ],
     "prompt_number": 19
    },
    {
     "cell_type": "markdown",
     "metadata": {},
     "source": [
      "Notice that in a list, the first element is `[0]`, not `[1]`.  There are all \n",
      "sorts of historical reasons why computers start counting lists with zero\n",
      "rather than one--some good, some obsolete--but we need to live with this\n",
      "if we're going to get any work done. Think of it like how floors are numbered\n",
      "in European buildings compared to American buildings.  If we go forward one note, \n",
      "to the second note, we write:"
     ]
    },
    {
     "cell_type": "code",
     "collapsed": false,
     "input": [
      "noteList[1]"
     ],
     "language": "python",
     "metadata": {},
     "outputs": [
      {
       "metadata": {},
       "output_type": "pyout",
       "prompt_number": 20,
       "text": [
        "<music21.note.Note F#>"
       ]
      }
     ],
     "prompt_number": 20
    },
    {
     "cell_type": "markdown",
     "metadata": {},
     "source": [
      "We can also ask `noteList` where is `note2` within it, using the `index()` method:"
     ]
    },
    {
     "cell_type": "code",
     "collapsed": false,
     "input": [
      "noteList.index(note2)"
     ],
     "language": "python",
     "metadata": {},
     "outputs": [
      {
       "metadata": {},
       "output_type": "pyout",
       "prompt_number": 21,
       "text": [
        "1"
       ]
      }
     ],
     "prompt_number": 21
    },
    {
     "cell_type": "markdown",
     "metadata": {},
     "source": [
      "If we want to get the last element of a list, we can write:"
     ]
    },
    {
     "cell_type": "code",
     "collapsed": false,
     "input": [
      "noteList[-1]"
     ],
     "language": "python",
     "metadata": {},
     "outputs": [
      {
       "metadata": {},
       "output_type": "pyout",
       "prompt_number": 22,
       "text": [
        "<music21.note.Note B->"
       ]
      }
     ],
     "prompt_number": 22
    },
    {
     "cell_type": "markdown",
     "metadata": {},
     "source": [
      "Which is how basements are numbered in Europe as well.  This is the same\n",
      "element as noteList[2] (our third Note), as we can have Python prove:"
     ]
    },
    {
     "cell_type": "code",
     "collapsed": false,
     "input": [
      "noteList[-1] is noteList[2]"
     ],
     "language": "python",
     "metadata": {},
     "outputs": [
      {
       "metadata": {},
       "output_type": "pyout",
       "prompt_number": 23,
       "text": [
        "True"
       ]
      }
     ],
     "prompt_number": 23
    },
    {
     "cell_type": "markdown",
     "metadata": {},
     "source": [
      "Lists will become important tools in your programming, but they don't know\n",
      "anything about music.  To get some intelligence into our music we'll need to\n",
      "know about a `music21` object similar to lists, called a :class:`~music21.stream.Stream`."
     ]
    },
    {
     "cell_type": "heading",
     "level": 2,
     "metadata": {},
     "source": [
      "Creating simple Streams"
     ]
    },
    {
     "cell_type": "markdown",
     "metadata": {},
     "source": [
      "Streams are similar to Python lists in that they hold individual elements\n",
      "in order.  They're different in that they can only hold `music21` objects\n",
      "such as Notes or :class:`~music21.clef.Clef` objects.  But they're a lot\n",
      "smarter and more powerful.\n",
      "\n",
      "To create a Stream you'll need to type `stream.Stream()` and assign it to\n",
      "a variable using the equal sign.  Let's call our Stream `stream1`:"
     ]
    },
    {
     "cell_type": "code",
     "collapsed": false,
     "input": [
      "stream1 = stream.Stream()"
     ],
     "language": "python",
     "metadata": {},
     "outputs": [],
     "prompt_number": 24
    },
    {
     "cell_type": "markdown",
     "metadata": {},
     "source": [
      "Notice that just like how the (capital) `Note` object lives in a module\n",
      "called (lowercase) `note`, the (capital) `Stream` object lives in a module\n",
      "called (lowercase) `stream`.  Variable names, like `stream1` can be either\n",
      "uppercase or lowercase, but I tend to use lowercase variable names (or camelCase\n",
      "like we did with `noteList`).  We can add the three `Note` objects we created\n",
      "above by using the `append` method of `Stream`:"
     ]
    },
    {
     "cell_type": "code",
     "collapsed": false,
     "input": [
      "stream1.append(note1)\n",
      "stream1.append(note2)\n",
      "stream1.append(note3)"
     ],
     "language": "python",
     "metadata": {},
     "outputs": [],
     "prompt_number": 25
    },
    {
     "cell_type": "markdown",
     "metadata": {},
     "source": [
      "(If you're thinking ahead and seeing that this would be a pain to type for\n",
      "hundreds of `Notes`, don't worry, we'll introduce some quicker ways to do that\n",
      "soon).  Now we can see that our Stream has three notes using the same `len()`\n",
      "function that we used before:"
     ]
    },
    {
     "cell_type": "code",
     "collapsed": false,
     "input": [
      "len(stream1)"
     ],
     "language": "python",
     "metadata": {},
     "outputs": [
      {
       "metadata": {},
       "output_type": "pyout",
       "prompt_number": 26,
       "text": [
        "3"
       ]
      }
     ],
     "prompt_number": 26
    },
    {
     "cell_type": "markdown",
     "metadata": {},
     "source": [
      "And we can still get the `step` of each `Note` using the `for thisNote in ...:`\n",
      "command, but we'll now use `stream1` instead of `noteList`:"
     ]
    },
    {
     "cell_type": "code",
     "collapsed": false,
     "input": [
      "for thisNote in stream1:\n",
      "    print(thisNote.step)"
     ],
     "language": "python",
     "metadata": {},
     "outputs": [
      {
       "output_type": "stream",
       "stream": "stdout",
       "text": [
        "C\n",
        "F\n",
        "B\n"
       ]
      }
     ],
     "prompt_number": 27
    },
    {
     "cell_type": "markdown",
     "metadata": {},
     "source": [
      "And we can get the first and the last `Note` in a `Stream` by using the [X] form:"
     ]
    },
    {
     "cell_type": "code",
     "collapsed": false,
     "input": [
      "stream1[0]"
     ],
     "language": "python",
     "metadata": {},
     "outputs": [
      {
       "metadata": {},
       "output_type": "pyout",
       "prompt_number": 29,
       "text": [
        "<music21.note.Note C>"
       ]
      }
     ],
     "prompt_number": 29
    },
    {
     "cell_type": "code",
     "collapsed": false,
     "input": [
      "stream1[1].accidental"
     ],
     "language": "python",
     "metadata": {},
     "outputs": [
      {
       "metadata": {},
       "output_type": "pyout",
       "prompt_number": 31,
       "text": [
        "<accidental sharp>"
       ]
      }
     ],
     "prompt_number": 31
    },
    {
     "cell_type": "markdown",
     "metadata": {},
     "source": [
      "Okay, so far we've seen that `Streams` can do the same things as lists, but\n",
      "can they do more?  Let's call the analyze method on stream to get the\n",
      "ambitus (that is, the range from the lowest note to the highest note) of\n",
      "the `Notes` in the `Stream`:"
     ]
    },
    {
     "cell_type": "code",
     "collapsed": false,
     "input": [
      "stream1.analyze('ambitus')"
     ],
     "language": "python",
     "metadata": {},
     "outputs": [
      {
       "metadata": {},
       "output_type": "pyout",
       "prompt_number": 32,
       "text": [
        "<music21.interval.Interval A12>"
       ]
      }
     ],
     "prompt_number": 32
    },
    {
     "cell_type": "markdown",
     "metadata": {},
     "source": [
      "Let's take a second to check this.  Our lowest note is note3 (B-flat in octave 2)\n",
      "and our highest note is note2 (F-sharp in octave 4).  From B-flat to the F-sharp\n",
      "above it, is an augmented fifth.  An augmented fifth plus an octave is an augmented\n",
      "twelfth.  So we're doing well so far.  (We'll get to other things we can analyze in\n",
      "chapter 18 and we'll see what an :class:`~music21.interval.Interval` object can do\n",
      "in chapter 15).\n",
      "\n",
      "Once a Note is in a Stream, we can ask for the `offset` of the `Notes` (or\n",
      "anything else) in it.  The `offset` is the position of a Note relative to the start\n",
      "of the `Stream` measured in quarter notes.  So note1's offset will be 0.0, \n",
      "since it's at the start of the Stream:"
     ]
    },
    {
     "cell_type": "code",
     "collapsed": false,
     "input": [
      "note1.offset"
     ],
     "language": "python",
     "metadata": {},
     "outputs": [
      {
       "metadata": {},
       "output_type": "pyout",
       "prompt_number": 33,
       "text": [
        "0.0"
       ]
      }
     ],
     "prompt_number": 33
    },
    {
     "cell_type": "markdown",
     "metadata": {},
     "source": [
      "`note2`'s offset will be 2.0, since `note1` is a half note, worth two quarter notes:"
     ]
    },
    {
     "cell_type": "code",
     "collapsed": false,
     "input": [
      "note2.offset"
     ],
     "language": "python",
     "metadata": {},
     "outputs": [
      {
       "metadata": {},
       "output_type": "pyout",
       "prompt_number": 34,
       "text": [
        "2.0"
       ]
      }
     ],
     "prompt_number": 34
    },
    {
     "cell_type": "markdown",
     "metadata": {},
     "source": [
      "And `note3`, which follows the quarter note `note2` will be at offset 3.0:"
     ]
    },
    {
     "cell_type": "code",
     "collapsed": false,
     "input": [
      "note3.offset"
     ],
     "language": "python",
     "metadata": {},
     "outputs": [
      {
       "metadata": {},
       "output_type": "pyout",
       "prompt_number": 35,
       "text": [
        "3.0"
       ]
      }
     ],
     "prompt_number": 35
    },
    {
     "cell_type": "markdown",
     "metadata": {},
     "source": [
      "(If we made `note2` an eighth note, then `note3`'s offset would be the floating point\n",
      "[decimal] value 2.5.  But we didn't.)  So now when we're looping we can see the offset of\n",
      "each note.  Let's print the note's offset followed by its name by putting .offset and .name\n",
      "in the same line, separated by a comma:"
     ]
    },
    {
     "cell_type": "code",
     "collapsed": false,
     "input": [
      "for thisNote in stream1:\n",
      "    print thisNote.offset, thisNote.name"
     ],
     "language": "python",
     "metadata": {},
     "outputs": [
      {
       "output_type": "stream",
       "stream": "stdout",
       "text": [
        "0.0 C\n",
        "2.0 F#\n",
        "3.0 B-\n"
       ]
      }
     ],
     "prompt_number": 36
    },
    {
     "cell_type": "markdown",
     "metadata": {},
     "source": [
      "(**Digression**: It's probably not too early to learn that a safer form of `.offset` is `.getOffsetBySite(stream1)`:"
     ]
    },
    {
     "cell_type": "code",
     "collapsed": false,
     "input": [
      "note2.offset"
     ],
     "language": "python",
     "metadata": {},
     "outputs": [
      {
       "metadata": {},
       "output_type": "pyout",
       "prompt_number": 39,
       "text": [
        "2.0"
       ]
      }
     ],
     "prompt_number": 39
    },
    {
     "cell_type": "code",
     "collapsed": false,
     "input": [
      "note2.getOffsetBySite(stream1)"
     ],
     "language": "python",
     "metadata": {},
     "outputs": [
      {
       "metadata": {},
       "output_type": "pyout",
       "prompt_number": 40,
       "text": [
        "2.0"
       ]
      }
     ],
     "prompt_number": 40
    },
    {
     "cell_type": "markdown",
     "metadata": {},
     "source": [
      "What's the difference?  Remember how I said that `.offset` refers to the number of quarter notes\n",
      "that the `Note` is from the front of a `Stream`? Well, eventually you may put the same `Note` in\n",
      "different places in multiple `Streams`, so the `.getOffsetBySite(X)` command is a safer way that\n",
      "specifies exactly which Stream we are talking about.  End of digression...)"
     ]
    },
    {
     "cell_type": "markdown",
     "metadata": {},
     "source": [
      "So, what else can we do with Streams?  Like `Note` objects, we can `show()` them in a couple of different\n",
      "ways.  Let's hear these three Notes as a MIDI file:"
     ]
    },
    {
     "cell_type": "raw",
     "metadata": {},
     "source": [
      "stream1.show('midi')"
     ]
    },
    {
     "cell_type": "markdown",
     "metadata": {},
     "source": [
      "Or let's see them as a score:"
     ]
    },
    {
     "cell_type": "raw",
     "metadata": {},
     "source": [
      "stream1.show('musicxml')"
     ]
    },
    {
     "cell_type": "markdown",
     "metadata": {},
     "source": [
      "<img src=\"files/images/usersGuide/04_stream1.jpg\" style=\"width:157px\" />"
     ]
    },
    {
     "cell_type": "markdown",
     "metadata": {},
     "source": [
      "You might ask why is the piece in common-time (4/4)? This is just the default for new pieces, which is in the \n",
      "`defaults` module:"
     ]
    },
    {
     "cell_type": "code",
     "collapsed": false,
     "input": [
      "defaults.meterNumerator"
     ],
     "language": "python",
     "metadata": {},
     "outputs": [
      {
       "metadata": {},
       "output_type": "pyout",
       "prompt_number": 41,
       "text": [
        "4"
       ]
      }
     ],
     "prompt_number": 41
    },
    {
     "cell_type": "code",
     "collapsed": false,
     "input": [
      "defaults.meterDenominator"
     ],
     "language": "python",
     "metadata": {},
     "outputs": [
      {
       "metadata": {},
       "output_type": "pyout",
       "prompt_number": 42,
       "text": [
        "'quarter'"
       ]
      }
     ],
     "prompt_number": 42
    },
    {
     "cell_type": "markdown",
     "metadata": {},
     "source": [
      "We'll learn how to switch the :class:`~music21.meter.TimeSignature` soon enough."
     ]
    },
    {
     "cell_type": "markdown",
     "metadata": {},
     "source": [
      "If you don't have MIDI or MusicXML configured yet (we'll get to it in a second) and you don't want to have \n",
      "other programs open up, you can show a `Stream` in text in your editor:"
     ]
    },
    {
     "cell_type": "code",
     "collapsed": false,
     "input": [
      "stream1.show('text')"
     ],
     "language": "python",
     "metadata": {},
     "outputs": [
      {
       "output_type": "stream",
       "stream": "stdout",
       "text": [
        "{0.0} <music21.note.Note C>\n",
        "{2.0} <music21.note.Note F#>\n",
        "{3.0} <music21.note.Note B->\n"
       ]
      }
     ],
     "prompt_number": 43
    },
    {
     "cell_type": "markdown",
     "metadata": {},
     "source": [
      "This display shows the `offset` for each element (that is, each object in the Stream) along with\n",
      "what class it is, and a little bit more helpful information.  The information is the same as\n",
      "what's called the ``__repr__`` (representation) of the object, which is what you get if you type\n",
      "its variable name at the prompt:"
     ]
    },
    {
     "cell_type": "code",
     "collapsed": false,
     "input": [
      "note1"
     ],
     "language": "python",
     "metadata": {},
     "outputs": [
      {
       "metadata": {},
       "output_type": "pyout",
       "prompt_number": 44,
       "text": [
        "<music21.note.Note C>"
       ]
      }
     ],
     "prompt_number": 44
    },
    {
     "cell_type": "markdown",
     "metadata": {},
     "source": [
      "By the way, Streams have a ``__repr__`` as well:"
     ]
    },
    {
     "cell_type": "code",
     "collapsed": false,
     "input": [
      "stream1"
     ],
     "language": "python",
     "metadata": {},
     "outputs": [
      {
       "metadata": {},
       "output_type": "pyout",
       "prompt_number": 46,
       "text": [
        "<music21.stream.Stream 4416614928>"
       ]
      }
     ],
     "prompt_number": 46
    },
    {
     "cell_type": "markdown",
     "metadata": {},
     "source": [
      "that number at the end is the `.id` of the `Stream`, which is a way of identifying it.  Often\n",
      "the `.id` of a Stream will be the name of the `Part` (\"Violin II\"), but if it's undefined\n",
      "then a somewhat random number is used (actually the location of the Stream in your computer's\n",
      "memory).  We can change the `.id` of a Stream:"
     ]
    },
    {
     "cell_type": "code",
     "collapsed": false,
     "input": [
      "stream1.id = 'some notes'\n",
      "stream1"
     ],
     "language": "python",
     "metadata": {},
     "outputs": [
      {
       "metadata": {},
       "output_type": "pyout",
       "prompt_number": 48,
       "text": [
        "<music21.stream.Stream some notes>"
       ]
      }
     ],
     "prompt_number": 48
    },
    {
     "cell_type": "markdown",
     "metadata": {},
     "source": [
      "We could have also changed the `.id` of any of our `Note` objects, but it doesn't show up in\n",
      "the `Note`'s ``__repr__``:"
     ]
    },
    {
     "cell_type": "code",
     "collapsed": false,
     "input": [
      "note1.id = 'my favorite C'\n",
      "note1"
     ],
     "language": "python",
     "metadata": {},
     "outputs": [
      {
       "metadata": {},
       "output_type": "pyout",
       "prompt_number": 49,
       "text": [
        "<music21.note.Note C>"
       ]
      }
     ],
     "prompt_number": 49
    },
    {
     "cell_type": "markdown",
     "metadata": {},
     "source": [
      "Now, a `Stream` is a :class:`~music21.base.Music21Object` just like a `Note` is.  This is why\n",
      "it has an `.id` attribute and, more importantly, why you can call `.show()` on it. "
     ]
    },
    {
     "cell_type": "markdown",
     "metadata": {},
     "source": [
      "What else makes a `Music21Object` what it is?\n",
      "It has a `.duration` attribute which stores a `Duration` object:"
     ]
    },
    {
     "cell_type": "code",
     "collapsed": false,
     "input": [
      "stream1.duration"
     ],
     "language": "python",
     "metadata": {},
     "outputs": [
      {
       "metadata": {},
       "output_type": "pyout",
       "prompt_number": 50,
       "text": [
        "<music21.duration.Duration 4.0>"
       ]
      }
     ],
     "prompt_number": 50
    },
    {
     "cell_type": "code",
     "collapsed": false,
     "input": [
      "stream1.duration.type"
     ],
     "language": "python",
     "metadata": {},
     "outputs": [
      {
       "metadata": {},
       "output_type": "pyout",
       "prompt_number": 51,
       "text": [
        "'whole'"
       ]
      }
     ],
     "prompt_number": 51
    },
    {
     "cell_type": "code",
     "collapsed": false,
     "input": [
      "stream1.duration.quarterLength"
     ],
     "language": "python",
     "metadata": {},
     "outputs": [
      {
       "metadata": {},
       "output_type": "pyout",
       "prompt_number": 52,
       "text": [
        "4.0"
       ]
      }
     ],
     "prompt_number": 52
    },
    {
     "cell_type": "markdown",
     "metadata": {},
     "source": [
      "(Notice that the `len()` of a `Stream`, which stands for \"length\", is not the same as the duration. \n",
      "the `len()` of a Stream is the number of objects stored in it, so `len(stream1)` is 3)."
     ]
    },
    {
     "cell_type": "markdown",
     "metadata": {},
     "source": [
      "And, as a `Music21Object`, a `Stream` can be placed inside of another `Stream` object.  Let's create\n",
      "a stream, called biggerStream (for reasons that will become obvious), that holds a `Note` D# at the\n",
      "beginning"
     ]
    },
    {
     "cell_type": "code",
     "collapsed": false,
     "input": [
      "biggerStream = stream.Stream()\n",
      "note2 = note.Note(\"D#5\")\n",
      "biggerStream.insert(0, note2)"
     ],
     "language": "python",
     "metadata": {},
     "outputs": [],
     "prompt_number": 54
    },
    {
     "cell_type": "markdown",
     "metadata": {},
     "source": [
      "Now we use the `.append` functionality to put `stream1` at the end of `biggerStream`:"
     ]
    },
    {
     "cell_type": "code",
     "collapsed": false,
     "input": [
      "biggerStream.append(stream1)"
     ],
     "language": "python",
     "metadata": {},
     "outputs": [],
     "prompt_number": 55
    },
    {
     "cell_type": "markdown",
     "metadata": {},
     "source": [
      "Notice that when we call `.show('text')` on biggerStream, we see not only the presence of `note2`\n",
      "and `stream1` but also all the contents of `stream1` as well:"
     ]
    },
    {
     "cell_type": "code",
     "collapsed": false,
     "input": [
      "biggerStream.show('text') "
     ],
     "language": "python",
     "metadata": {},
     "outputs": [
      {
       "output_type": "stream",
       "stream": "stdout",
       "text": [
        "{0.0} <music21.note.Note D#>\n",
        "{1.0} <music21.stream.Stream some notes>\n",
        "    {0.0} <music21.note.Note C>\n",
        "    {2.0} <music21.note.Note F#>\n",
        "    {3.0} <music21.note.Note B->\n"
       ]
      }
     ],
     "prompt_number": 56
    },
    {
     "cell_type": "markdown",
     "metadata": {},
     "source": [
      "Notice though that the offsets, the little numbers inside curly brackets, for the elements of\n",
      "`stream1` (\"some notes\") relate only to their positions within `stream1`, not to their position\n",
      "within `biggerStream`.  This is because each `Music21Object` knows its offset only in relation\n",
      "to its containing `Stream`, not necessarily to the `Stream` containing *that* `Stream`.  "
     ]
    },
    {
     "cell_type": "markdown",
     "metadata": {},
     "source": [
      "Also notice that `note1` knows that it is in `stream1` but doesn't know that it is somewhere inside\n",
      "`biggerStream`:"
     ]
    },
    {
     "cell_type": "code",
     "collapsed": false,
     "input": [
      "note1 in stream1"
     ],
     "language": "python",
     "metadata": {},
     "outputs": [
      {
       "metadata": {},
       "output_type": "pyout",
       "prompt_number": 57,
       "text": [
        "True"
       ]
      }
     ],
     "prompt_number": 57
    },
    {
     "cell_type": "code",
     "collapsed": false,
     "input": [
      "note1 in biggerStream"
     ],
     "language": "python",
     "metadata": {},
     "outputs": [
      {
       "metadata": {},
       "output_type": "pyout",
       "prompt_number": 58,
       "text": [
        "False"
       ]
      }
     ],
     "prompt_number": 58
    },
    {
     "cell_type": "markdown",
     "metadata": {},
     "source": [
      "All this might not seem like much of a big deal, until we tell you that in music21, `Scores` are\n",
      "made up of `Streams` within `Streams` within `Streams`.  So if you have an orchestral score, it is\n",
      "a `Stream`, and the viola part is a `Stream` in that `Stream`, and measure 5 of the viola part is a\n",
      "`Stream` within that `Stream`, and, if there were a ''divisi'', then each ''diviso'' voice would be\n",
      "a `Stream` within that `Stream`.  Each of these `Streams` has a special name and its own class \n",
      "(:class:`~music21.stream.Score`, :class:`~music21.stream.Part`, :class:`~music21.stream.Measure`,\n",
      "and :class:`~music21.stream.Voice`), but they are all types of `Streams`.  \n",
      "\n",
      "So how do we find `note1` inside `biggerStream`?  That's what the next two chapters are about.  \n",
      "Click ``Next`` for Chapter 5.  Those with programming experience who have familiarity with\n",
      "lists of lists and defining functions might want to skip to Chapter 6."
     ]
    }
   ],
   "metadata": {}
  }
 ]
}