{
 "metadata": {
  "name": "",
  "signature": "sha256:521b5319d75fcac4c4825633f3b7fb315caff06d9232b73239a4eed4f339b799"
 },
 "nbformat": 3,
 "nbformat_minor": 0,
 "worksheets": [
  {
   "cells": [
    {
     "cell_type": "heading",
     "level": 1,
     "metadata": {},
     "source": [
      "User's Guide, Chapter 21: Ordering and Sorting of Stream Elements"
     ]
    },
    {
     "cell_type": "code",
     "collapsed": false,
     "input": [
      "# ignore this\n",
      "%load_ext music21.ipython21.ipExtension"
     ],
     "language": "python",
     "metadata": {},
     "outputs": [
      {
       "html": [
        "\n",
        "     <script src='http://web.mit.edu/music21/music21j/ext/require/require.js'></script>\n",
        "     <script>\n",
        "    require.config(\n",
        "       { baseUrl: \"http://web.mit.edu/music21/music21j/src/\",\n",
        "         paths: {'music21': 'http://web.mit.edu/music21/music21j/src/music21',}\n",
        "        });\n",
        "    require(['music21'], function () {\n",
        "          var n = new music21.note.Note(\"D#4\");\n",
        "          var s = new music21.stream.Stream();\n",
        "          s.append(n);\n",
        "          console.log('music21 loaded fine');\n",
        "    });\n",
        "    </script>\n",
        "    "
       ],
       "metadata": {},
       "output_type": "display_data",
       "text": [
        "<IPython.core.display.HTML at 0x1072f4390>"
       ]
      }
     ],
     "prompt_number": 2
    },
    {
     "cell_type": "markdown",
     "metadata": {},
     "source": [
      "Inside a stream, each object has a position and thus an order in the :class:`~music21.stream.Stream`.  Up until now we've seen two different ways to describe the position of an element (such as a :class:`~music21.note.Note`) in a stream.  The first is the index of the object in the stream (a number in square brackets) and the second is the `offset`.\n",
      "\n",
      "Let's take a simple Stream:"
     ]
    },
    {
     "cell_type": "code",
     "collapsed": false,
     "input": [
      "from music21 import *\n",
      "s = stream.Measure()\n",
      "ts1 = meter.TimeSignature('3/4')\n",
      "s.insert(0, ts1)\n",
      "s.insert(0, key.KeySignature(2))\n",
      "s.insert(0, clef.TrebleClef())\n",
      "s.insert(0, note.Note('C#4'))\n",
      "s.insert(1, note.Note('D#4'))"
     ],
     "language": "python",
     "metadata": {},
     "outputs": [],
     "prompt_number": 3
    },
    {
     "cell_type": "markdown",
     "metadata": {},
     "source": [
      "We have inserted three elements that take up no space (a TimeSignature, KeySignature, and a Clef) and two elements that take up 1.0 quarter notes (the default length of a Note object). You might notice that the signatures and clef were inserted in a strange order. Don't worry, we'll get to that in a bit.  \n",
      "\n",
      "In addition to inserting elements at particular places in a Stream, we can append an element to the end of the Stream:"
     ]
    },
    {
     "cell_type": "code",
     "collapsed": false,
     "input": [
      "e = note.Note('E4')\n",
      "s.append(e)\n",
      "s.show()"
     ],
     "language": "python",
     "metadata": {},
     "outputs": [
      {
       "metadata": {},
       "output_type": "pyout",
       "png": "[encoded data removed]",
       "prompt_number": 4,
       "text": [
        "<music21.ipython21.objects.IPythonPNGObject at 0x104868b50>"
       ]
      }
     ],
     "prompt_number": 4
    },
    {
     "cell_type": "markdown",
     "metadata": {},
     "source": [
      "Now we're pretty sure that the C# will be the fourth element in the Stream, which is referred to as `[3]` and the D# will be the fifth, or `[4]`"
     ]
    },
    {
     "cell_type": "code",
     "collapsed": false,
     "input": [
      "s[3]"
     ],
     "language": "python",
     "metadata": {},
     "outputs": [
      {
       "metadata": {},
       "output_type": "pyout",
       "prompt_number": 5,
       "text": [
        "<music21.note.Note C#>"
       ]
      }
     ],
     "prompt_number": 5
    },
    {
     "cell_type": "code",
     "collapsed": false,
     "input": [
      "s[4]"
     ],
     "language": "python",
     "metadata": {},
     "outputs": [
      {
       "metadata": {},
       "output_type": "pyout",
       "prompt_number": 6,
       "text": [
        "<music21.note.Note D#>"
       ]
      }
     ],
     "prompt_number": 6
    },
    {
     "cell_type": "markdown",
     "metadata": {},
     "source": [
      "The E will be `[5]` but we can also get it by saying it's the last element, or `[-1]`"
     ]
    },
    {
     "cell_type": "code",
     "collapsed": false,
     "input": [
      "s[-1]"
     ],
     "language": "python",
     "metadata": {},
     "outputs": [
      {
       "metadata": {},
       "output_type": "pyout",
       "prompt_number": 7,
       "text": [
        "<music21.note.Note E>"
       ]
      }
     ],
     "prompt_number": 7
    },
    {
     "cell_type": "markdown",
     "metadata": {},
     "source": [
      "The other way to describe the position of an element is by its offset."
     ]
    },
    {
     "cell_type": "code",
     "collapsed": false,
     "input": [
      "e.offset"
     ],
     "language": "python",
     "metadata": {},
     "outputs": [
      {
       "metadata": {},
       "output_type": "pyout",
       "prompt_number": 8,
       "text": [
        "2.0"
       ]
      }
     ],
     "prompt_number": 8
    },
    {
     "cell_type": "markdown",
     "metadata": {},
     "source": [
      "You may recall from previous discussions that the `offset` of an element is its position within the last referenced Stream it was attached to.  Thus, if you want to know the offset of an element within a particular Stream, it is always safer to use the method `.getOffsetBySite(stream)`: "
     ]
    },
    {
     "cell_type": "code",
     "collapsed": false,
     "input": [
      "e.getOffsetBySite(s)"
     ],
     "language": "python",
     "metadata": {},
     "outputs": [
      {
       "metadata": {},
       "output_type": "pyout",
       "prompt_number": 9,
       "text": [
        "2.0"
       ]
      }
     ],
     "prompt_number": 9
    },
    {
     "cell_type": "markdown",
     "metadata": {},
     "source": [
      "If you want to find all the elements at a particular offset, call `.getElementsByOffset` on the Stream.  Note that if any elements are found it returns a new Stream, so you will need to use the square bracket index to reference it:"
     ]
    },
    {
     "cell_type": "code",
     "collapsed": false,
     "input": [
      "s.getElementsByOffset(2.0)[0]"
     ],
     "language": "python",
     "metadata": {},
     "outputs": [
      {
       "metadata": {},
       "output_type": "pyout",
       "prompt_number": 10,
       "text": [
        "<music21.note.Note E>"
       ]
      }
     ],
     "prompt_number": 10
    },
    {
     "cell_type": "markdown",
     "metadata": {},
     "source": [
      "This description might seem a bit obnoxious, but it is necessary because you can get multiple elements back, such as with an offset range:"
     ]
    },
    {
     "cell_type": "code",
     "collapsed": false,
     "input": [
      "y = s.getElementsByOffset(1.0, 3.0)\n",
      "(y[0], y[1])"
     ],
     "language": "python",
     "metadata": {},
     "outputs": [
      {
       "metadata": {},
       "output_type": "pyout",
       "prompt_number": 11,
       "text": [
        "(<music21.note.Note D#>, <music21.note.Note E>)"
       ]
      }
     ],
     "prompt_number": 11
    },
    {
     "cell_type": "markdown",
     "metadata": {},
     "source": [
      "At this point, you might think that you know everything about how elements are positioned in a Stream, but there are a few more points that are important and point to the power of `music21`.  Let's show the Stream as a text file:"
     ]
    },
    {
     "cell_type": "code",
     "collapsed": false,
     "input": [
      "s.show('text')"
     ],
     "language": "python",
     "metadata": {},
     "outputs": [
      {
       "output_type": "stream",
       "stream": "stdout",
       "text": [
        "{0.0} <music21.clef.TrebleClef>\n",
        "{0.0} <music21.key.KeySignature of 2 sharps>\n",
        "{0.0} <music21.meter.TimeSignature 3/4>\n",
        "{0.0} <music21.note.Note C#>\n",
        "{1.0} <music21.note.Note D#>\n",
        "{2.0} <music21.note.Note E>\n"
       ]
      }
     ],
     "prompt_number": 12
    },
    {
     "cell_type": "markdown",
     "metadata": {},
     "source": [
      "Something has happened: the `TrebleClef` object which was inserted third has now become the first element of the Stream. The `KeySignature` and `TimeSignature` objects have also switched position.  Now all three are in the order we'd expect to see them in a score:"
     ]
    },
    {
     "cell_type": "code",
     "collapsed": false,
     "input": [
      "(s[0], s[1], s[2])"
     ],
     "language": "python",
     "metadata": {},
     "outputs": [
      {
       "metadata": {},
       "output_type": "pyout",
       "prompt_number": 13,
       "text": [
        "(<music21.clef.TrebleClef>,\n",
        " <music21.key.KeySignature of 2 sharps>,\n",
        " <music21.meter.TimeSignature 3/4>)"
       ]
      }
     ],
     "prompt_number": 13
    },
    {
     "cell_type": "markdown",
     "metadata": {},
     "source": [
      "Even though they have the same `.offset`, each of these objects knows its place in the Stream, because of something called `.classSortOrder`.  Each Class and each instance of the class has a default sort order so that if it is at the same offset as a member of a different class, one will sort before the other:"
     ]
    },
    {
     "cell_type": "code",
     "collapsed": false,
     "input": [
      "(s[0].classSortOrder, s[1].classSortOrder, s[2].classSortOrder)"
     ],
     "language": "python",
     "metadata": {},
     "outputs": [
      {
       "metadata": {},
       "output_type": "pyout",
       "prompt_number": 14,
       "text": [
        "(0, 2, 4)"
       ]
      }
     ],
     "prompt_number": 14
    },
    {
     "cell_type": "markdown",
     "metadata": {},
     "source": [
      "In fact, `classSortOrder` is present not just on objects but on classes:"
     ]
    },
    {
     "cell_type": "code",
     "collapsed": false,
     "input": [
      "(clef.Clef.classSortOrder, key.KeySignature.classSortOrder, meter.TimeSignature.classSortOrder)"
     ],
     "language": "python",
     "metadata": {},
     "outputs": [
      {
       "metadata": {},
       "output_type": "pyout",
       "prompt_number": 15,
       "text": [
        "(0, 2, 4)"
       ]
      }
     ],
     "prompt_number": 15
    },
    {
     "cell_type": "markdown",
     "metadata": {},
     "source": [
      "Notes sort even higher, hence why the C# appears after the clefs and signatures:"
     ]
    },
    {
     "cell_type": "code",
     "collapsed": false,
     "input": [
      "(note.Note.classSortOrder, base.Music21Object.classSortOrder)"
     ],
     "language": "python",
     "metadata": {},
     "outputs": [
      {
       "metadata": {},
       "output_type": "pyout",
       "prompt_number": 16,
       "text": [
        "(20, 20)"
       ]
      }
     ],
     "prompt_number": 16
    },
    {
     "cell_type": "markdown",
     "metadata": {},
     "source": [
      "There are a few elements that sort even lower than Clefs because they usually refer to the area of the composition that precedes the clef:"
     ]
    },
    {
     "cell_type": "code",
     "collapsed": false,
     "input": [
      "(bar.Barline.classSortOrder, instrument.Instrument.classSortOrder, metadata.Metadata.classSortOrder)"
     ],
     "language": "python",
     "metadata": {},
     "outputs": [
      {
       "metadata": {},
       "output_type": "pyout",
       "prompt_number": 17,
       "text": [
        "(-5, -25, -30)"
       ]
      }
     ],
     "prompt_number": 17
    },
    {
     "cell_type": "markdown",
     "metadata": {},
     "source": [
      "The numbers are actually completely arbitrary (it could be -6.432 instead of -5), only the order of numbers (-25 is less than -5) matters.\n",
      "\n",
      "If we put a second TimeSignature into the stream at offset 0 (like some pieces do with multiple interpretations for meter), it will have a tie for its .offset and .classSortOrder.  Which one will come first? It's the first one inserted:"
     ]
    },
    {
     "cell_type": "code",
     "collapsed": false,
     "input": [
      "ts2 = meter.TimeSignature('6/8')\n",
      "s.insert(0, ts2)\n",
      "s.show('text')"
     ],
     "language": "python",
     "metadata": {},
     "outputs": [
      {
       "output_type": "stream",
       "stream": "stdout",
       "text": [
        "{0.0} <music21.clef.TrebleClef>\n",
        "{0.0} <music21.key.KeySignature of 2 sharps>\n",
        "{0.0} <music21.meter.TimeSignature 3/4>\n",
        "{0.0} <music21.meter.TimeSignature 6/8>\n",
        "{0.0} <music21.note.Note C#>\n",
        "{1.0} <music21.note.Note D#>\n",
        "{2.0} <music21.note.Note E>\n"
       ]
      }
     ],
     "prompt_number": 18
    },
    {
     "cell_type": "markdown",
     "metadata": {},
     "source": [
      "If we wanted to make sure that the two TimeSignatures appeared in a particular order regardless of when they were inserted, there is one way to do so: set the `.priority` attribute on the TimeSignature.  Every Music21Object has a `priority` attribute, and the default is `0`. Negative numbers make an element sort before a default element. Positive numbers sort after.  \n",
      "\n",
      "Let us insert two more notes into the stream, at offsets 1 and 2, but we'll make the note at offset 1 come before the D# and the one at offset 2 come after the E, so we have a chromatic scale fragment:"
     ]
    },
    {
     "cell_type": "code",
     "collapsed": false,
     "input": [
      "d = note.Note('D')\n",
      "d.priority = -10\n",
      "eis = note.Note('E#')\n",
      "eis.priority = 10\n",
      "s.insert(1.0, d)\n",
      "s.insert(2.0, eis)\n",
      "s.show('text')"
     ],
     "language": "python",
     "metadata": {},
     "outputs": [
      {
       "output_type": "stream",
       "stream": "stdout",
       "text": [
        "{0.0} <music21.clef.TrebleClef>\n",
        "{0.0} <music21.key.KeySignature of 2 sharps>\n",
        "{0.0} <music21.meter.TimeSignature 3/4>\n",
        "{0.0} <music21.meter.TimeSignature 6/8>\n",
        "{0.0} <music21.note.Note C#>\n",
        "{1.0} <music21.note.Note D>\n",
        "{1.0} <music21.note.Note D#>\n",
        "{2.0} <music21.note.Note E>\n",
        "{2.0} <music21.note.Note E#>\n"
       ]
      }
     ],
     "prompt_number": 19
    },
    {
     "cell_type": "markdown",
     "metadata": {},
     "source": [
      "Three things to note about priority:\n",
      "\n",
      "(1) Priority changes do not immediately affect the sorting of the Stream, so if you want to change the priority of an object, you'll need to remove it and then reinsert it. "
     ]
    },
    {
     "cell_type": "code",
     "collapsed": false,
     "input": [
      "d.priority = 20\n",
      "s.remove(d)\n",
      "s.insert(1.0, d)\n",
      "s.show('text')"
     ],
     "language": "python",
     "metadata": {},
     "outputs": [
      {
       "output_type": "stream",
       "stream": "stdout",
       "text": [
        "{0.0} <music21.clef.TrebleClef>\n",
        "{0.0} <music21.key.KeySignature of 2 sharps>\n",
        "{0.0} <music21.meter.TimeSignature 3/4>\n",
        "{0.0} <music21.meter.TimeSignature 6/8>\n",
        "{0.0} <music21.note.Note C#>\n",
        "{1.0} <music21.note.Note D#>\n",
        "{1.0} <music21.note.Note D>\n",
        "{2.0} <music21.note.Note E>\n",
        "{2.0} <music21.note.Note E#>\n"
       ]
      }
     ],
     "prompt_number": 20
    },
    {
     "cell_type": "markdown",
     "metadata": {},
     "source": [
      "(2) Priority is currently a global property that affects all Streams that an object is in. This is behavior that may change in later versions.\n",
      "\n",
      "(3) Priority overrides `classSortOrder`.  So if we wanted to move the 6/8 TimeSignature `(ts2)` to sort before the 3/4 `(ts1)`, it is not enough to shift the priority of `ts2` and reinsert it:"
     ]
    },
    {
     "cell_type": "code",
     "collapsed": false,
     "input": [
      "ts2.priority = -5\n",
      "s.remove(ts2)\n",
      "s.insert(0.0, ts2)\n",
      "s.show('text')"
     ],
     "language": "python",
     "metadata": {},
     "outputs": [
      {
       "output_type": "stream",
       "stream": "stdout",
       "text": [
        "{0.0} <music21.meter.TimeSignature 6/8>\n",
        "{0.0} <music21.clef.TrebleClef>\n",
        "{0.0} <music21.key.KeySignature of 2 sharps>\n",
        "{0.0} <music21.meter.TimeSignature 3/4>\n",
        "{0.0} <music21.note.Note C#>\n",
        "{1.0} <music21.note.Note D#>\n",
        "{1.0} <music21.note.Note D>\n",
        "{2.0} <music21.note.Note E>\n",
        "{2.0} <music21.note.Note E#>\n"
       ]
      }
     ],
     "prompt_number": 21
    },
    {
     "cell_type": "markdown",
     "metadata": {},
     "source": [
      "Now it's appearing before the clef and key signature.  A fix for this would involve assigning some priority to each object at offset 0.0 and then forcing a re-sorting:"
     ]
    },
    {
     "cell_type": "code",
     "collapsed": false,
     "input": [
      "for el in s.getElementsByOffset(0.0):\n",
      "    el.priority = el.classSortOrder\n",
      "\n",
      "ts2.priority = 3 # between KeySignature (priority = 2) and TimeSignature (priority = 4)\n",
      "s.isSorted = False\n",
      "s.show('text')"
     ],
     "language": "python",
     "metadata": {},
     "outputs": [
      {
       "output_type": "stream",
       "stream": "stdout",
       "text": [
        "{0.0} <music21.clef.TrebleClef>\n",
        "{0.0} <music21.key.KeySignature of 2 sharps>\n",
        "{0.0} <music21.meter.TimeSignature 6/8>\n",
        "{0.0} <music21.meter.TimeSignature 3/4>\n",
        "{0.0} <music21.note.Note C#>\n",
        "{1.0} <music21.note.Note D#>\n",
        "{1.0} <music21.note.Note D>\n",
        "{2.0} <music21.note.Note E>\n",
        "{2.0} <music21.note.Note E#>\n"
       ]
      }
     ],
     "prompt_number": 22
    },
    {
     "cell_type": "heading",
     "level": 2,
     "metadata": {},
     "source": [
      "Behind the scenes:"
     ]
    },
    {
     "cell_type": "markdown",
     "metadata": {},
     "source": [
      "How does sorting actually work? `Music21` uses six attributes to determine which elements go before or after each other.  The six-element tuple that determines sort order can be accessed on any `Music21Object` by calling the method `.sortTuple()`:"
     ]
    },
    {
     "cell_type": "code",
     "collapsed": false,
     "input": [
      "ts1.sortTuple()"
     ],
     "language": "python",
     "metadata": {},
     "outputs": [
      {
       "metadata": {},
       "output_type": "pyout",
       "prompt_number": 23,
       "text": [
        "SortTuple(atEnd=0, offset=0.0, priority=4, classSortOrder=4, isNotGrace=1, insertIndex=82)"
       ]
      }
     ],
     "prompt_number": 23
    },
    {
     "cell_type": "code",
     "collapsed": false,
     "input": [
      "ts2.sortTuple()"
     ],
     "language": "python",
     "metadata": {},
     "outputs": [
      {
       "metadata": {},
       "output_type": "pyout",
       "prompt_number": 24,
       "text": [
        "SortTuple(atEnd=0, offset=0.0, priority=3, classSortOrder=4, isNotGrace=1, insertIndex=173)"
       ]
      }
     ],
     "prompt_number": 24
    },
    {
     "cell_type": "markdown",
     "metadata": {},
     "source": [
      "A `SortTuple` is a lightweight `NamedTuple` object that can be compared using the `>` and `<` operators. Each of the elements is compared from left to right; if there is a tie on one attribute then the next one becomes important:"
     ]
    },
    {
     "cell_type": "code",
     "collapsed": false,
     "input": [
      "ts1.sortTuple() > ts2.sortTuple()"
     ],
     "language": "python",
     "metadata": {},
     "outputs": [
      {
       "metadata": {},
       "output_type": "pyout",
       "prompt_number": 25,
       "text": [
        "True"
       ]
      }
     ],
     "prompt_number": 25
    },
    {
     "cell_type": "markdown",
     "metadata": {},
     "source": [
      "In this case, the third element, priority, decides the order. The first attribute, atEnd, is 0 for normal elements, and 1 for an element stored at the end of a Stream. Let's add a courtesy KeySignature change at the end of `s`:"
     ]
    },
    {
     "cell_type": "code",
     "collapsed": false,
     "input": [
      "ks2 = key.KeySignature(-3)\n",
      "s.storeAtEnd(ks2)\n",
      "ks2.sortTuple()"
     ],
     "language": "python",
     "metadata": {},
     "outputs": [
      {
       "metadata": {},
       "output_type": "pyout",
       "prompt_number": 26,
       "text": [
        "SortTuple(atEnd=1, offset=0.0, priority=0, classSortOrder=2, isNotGrace=1, insertIndex=183)"
       ]
      }
     ],
     "prompt_number": 26
    },
    {
     "cell_type": "markdown",
     "metadata": {},
     "source": [
      "Putting a rightBarline on a Measure has the same effect:"
     ]
    },
    {
     "cell_type": "code",
     "collapsed": false,
     "input": [
      "rb = bar.Barline('double')\n",
      "s.rightBarline = rb\n",
      "rb.sortTuple()"
     ],
     "language": "python",
     "metadata": {},
     "outputs": [
      {
       "metadata": {},
       "output_type": "pyout",
       "prompt_number": 27,
       "text": [
        "SortTuple(atEnd=1, offset=0.0, priority=0, classSortOrder=-5, isNotGrace=1, insertIndex=185)"
       ]
      }
     ],
     "prompt_number": 27
    },
    {
     "cell_type": "markdown",
     "metadata": {},
     "source": [
      "The next three attributes (offset, priority, classSortOrder) have been described.  `isNotGrace` is 0 if the note is a grace note, 1 (default) if it is any other note or not a note.  Grace notes sort before other notes.  The last attribute is an ever increasing index of the number of elements that have had SiteReferences added to it."
     ]
    },
    {
     "cell_type": "markdown",
     "metadata": {},
     "source": [
      "(Advanced topic: the order that elements were inserted is used in order to make sure that elements do not shift around willy-nilly, but it's not something to use often or to rely on for complex calculations. For this reason, we have not exposed it as something easy to get, but if you need to access it, here's the formula:)"
     ]
    },
    {
     "cell_type": "code",
     "collapsed": false,
     "input": [
      "(ts1.sites.siteDict[id(s)].globalSiteIndex, ts2.sites.siteDict[id(s)].globalSiteIndex)"
     ],
     "language": "python",
     "metadata": {},
     "outputs": [
      {
       "metadata": {},
       "output_type": "pyout",
       "prompt_number": 28,
       "text": [
        "(82, 173)"
       ]
      }
     ],
     "prompt_number": 28
    },
    {
     "cell_type": "markdown",
     "metadata": {},
     "source": [
      "Streams have an attribute to cache whether they have been sorted, so that `.sort()` only needs to be called when a change has been made that alters the sort order."
     ]
    },
    {
     "cell_type": "code",
     "collapsed": false,
     "input": [
      "s.isSorted"
     ],
     "language": "python",
     "metadata": {},
     "outputs": [
      {
       "metadata": {},
       "output_type": "pyout",
       "prompt_number": 29,
       "text": [
        "False"
       ]
      }
     ],
     "prompt_number": 29
    },
    {
     "cell_type": "markdown",
     "metadata": {},
     "source": [
      "Calling a command that needs a particular order (`.show()`, `[x]`, etc.) automatically sorts the Stream:"
     ]
    },
    {
     "cell_type": "code",
     "collapsed": false,
     "input": [
      "s[0]\n",
      "s.isSorted"
     ],
     "language": "python",
     "metadata": {},
     "outputs": [
      {
       "metadata": {},
       "output_type": "pyout",
       "prompt_number": 30,
       "text": [
        "True"
       ]
      }
     ],
     "prompt_number": 30
    },
    {
     "cell_type": "markdown",
     "metadata": {},
     "source": [
      "There is one more way that elements in a Stream can be returned, for advanced\n",
      "uses only.  Each Stream has an `autoSort` property.  By default it is On.  But\n",
      "if you turn it off, then elements are returned in the order they are added\n",
      "regardless of offset, priority, or classSortOrder.  Here is an example of that:"
     ]
    },
    {
     "cell_type": "code",
     "collapsed": false,
     "input": [
      "s.autoSort = False\n",
      "ts1.setOffsetBySite(s, 20.0)\n",
      "s.show('text')"
     ],
     "language": "python",
     "metadata": {},
     "outputs": [
      {
       "output_type": "stream",
       "stream": "stdout",
       "text": [
        "{0.0} <music21.clef.TrebleClef>\n",
        "{0.0} <music21.key.KeySignature of 2 sharps>\n",
        "{0.0} <music21.meter.TimeSignature 6/8>\n",
        "{20.0} <music21.meter.TimeSignature 3/4>\n",
        "{0.0} <music21.note.Note C#>\n",
        "{1.0} <music21.note.Note D#>\n",
        "{1.0} <music21.note.Note D>\n",
        "{2.0} <music21.note.Note E>\n",
        "{2.0} <music21.note.Note E#>\n",
        "{20.0} <music21.bar.Barline style=double>\n",
        "{20.0} <music21.key.KeySignature of 3 flats>\n"
       ]
      }
     ],
     "prompt_number": 31
    },
    {
     "cell_type": "markdown",
     "metadata": {},
     "source": [
      "The setting `autoSort = False` can speed up some operations if you already know that all the notes are in order. Inside the stream.py module you\u2019ll see some even faster operations such as `_insertCore()` and `_appendCore()` which are even faster and which we use when translating from one format to another. After running an `_insertCore()` operation, the Stream is in an unusuable state until `_elementsChanged()` is run, which lets the Stream ruminate over its new state as if a normal `insert()` or `append()` operation has been done. Mixing `_insertCore()` and `_appendCore()` commands without running `_elementsChanged()` is likely to have disasterous consequences. Use one or the other."
     ]
    },
    {
     "cell_type": "markdown",
     "metadata": {},
     "source": [
      "If you want to get back to the sorted state, just turn `autoSort = True`:"
     ]
    },
    {
     "cell_type": "code",
     "collapsed": false,
     "input": [
      "s.autoSort = True\n",
      "s.isSorted = False\n",
      "s.show('text')"
     ],
     "language": "python",
     "metadata": {},
     "outputs": [
      {
       "output_type": "stream",
       "stream": "stdout",
       "text": [
        "{0.0} <music21.clef.TrebleClef>\n",
        "{0.0} <music21.key.KeySignature of 2 sharps>\n",
        "{0.0} <music21.meter.TimeSignature 6/8>\n",
        "{0.0} <music21.note.Note C#>\n",
        "{1.0} <music21.note.Note D#>\n",
        "{1.0} <music21.note.Note D>\n",
        "{2.0} <music21.note.Note E>\n",
        "{2.0} <music21.note.Note E#>\n",
        "{20.0} <music21.meter.TimeSignature 3/4>\n",
        "{20.0} <music21.bar.Barline style=double>\n",
        "{20.0} <music21.key.KeySignature of 3 flats>\n"
       ]
      }
     ],
     "prompt_number": 32
    },
    {
     "cell_type": "markdown",
     "metadata": {},
     "source": [
      "Note that this is a destructive operation. Turning `autoSort` back to `False` won\u2019t get you back the earlier order:"
     ]
    },
    {
     "cell_type": "code",
     "collapsed": false,
     "input": [
      "s.autoSort = False\n",
      "s.show('text')"
     ],
     "language": "python",
     "metadata": {},
     "outputs": [
      {
       "output_type": "stream",
       "stream": "stdout",
       "text": [
        "{0.0} <music21.clef.TrebleClef>\n",
        "{0.0} <music21.key.KeySignature of 2 sharps>\n",
        "{0.0} <music21.meter.TimeSignature 6/8>\n",
        "{0.0} <music21.note.Note C#>\n",
        "{1.0} <music21.note.Note D#>\n",
        "{1.0} <music21.note.Note D>\n",
        "{2.0} <music21.note.Note E>\n",
        "{2.0} <music21.note.Note E#>\n",
        "{20.0} <music21.meter.TimeSignature 3/4>\n",
        "{20.0} <music21.bar.Barline style=double>\n",
        "{20.0} <music21.key.KeySignature of 3 flats>\n"
       ]
      }
     ],
     "prompt_number": 33
    }
   ],
   "metadata": {}
  }
 ]
}