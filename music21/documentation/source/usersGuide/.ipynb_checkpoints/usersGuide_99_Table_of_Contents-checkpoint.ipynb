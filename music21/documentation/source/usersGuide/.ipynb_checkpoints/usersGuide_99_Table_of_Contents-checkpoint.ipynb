{
 "metadata": {
  "name": "",
  "signature": "sha256:2a38bee5f898db34301ea0ddecbb8ba370ed18aaab2950dca5ca458ae4e4952b"
 },
 "nbformat": 3,
 "nbformat_minor": 0,
 "worksheets": [
  {
   "cells": [
    {
     "cell_type": "markdown",
     "metadata": {},
     "source": [
      "#User's Guide, Table of Contents#\n",
      "\n",
      "This is the table of contents for the eventual User's Guide, where topics will be linked and added as the topics are written:\n",
      "\n",
      ":ref:`Introduction <usersGuide_00_introduction>` (to be taken from the **Quick Start**)\n",
      "\n",
      "1.\tInstalling (sigh!)\n",
      "2.\tNotes\n",
      "3.\tPitches, Durations, Notes again\n",
      "4.\tBasic Streams\n",
      "5.\tLists of Lists\n",
      "6.\tNested Streams and Basic Hierarchies\n",
      "7.\t:ref:`Chords <usersGuide_07_chords>`\n",
      "8.\tConfiguring MusicXML reader. Making files\n",
      "9.\tChordify\n",
      "10.\tFile formats (1)\n",
      "11.\tCorpus Studies\n",
      "12.\tRecursive Streams, inPlace, and deepcopy\n",
      "13.\tChorales as a corpus\n",
      "14.\tTime Signatures\n",
      "15.\tKey Signatures and Keys\n",
      "16.\tIntervals\n",
      "17. Derivations\n",
      "18.\tMore durations: Complex, ties, and tuplets\n",
      "19.\tEnvironment\n",
      "20.\tBasic Analysis Tools\n",
      "21.\tAdvanced Meter topics\n",
      "22.\tGraphing\n",
      "23.\tSearching for Files and Metadata\n",
      "24.\tMaking a local corpus\n",
      "25.\tPost tonal tools (1)\n",
      "26.\tBars and Layout\n",
      "27.\tRepeats\n",
      "28.\tFreezeThaw\n",
      "29.\tSlurs\n",
      "30.\tSpanners\n",
      "31.\tOssias, Variants, and musicDiff\n",
      "32.\tDynamics\n",
      "33.\tSearching in and among Scores\n",
      "34.\tVoice leading\n",
      "35. Automatic Reduction with OffsetTrees\n",
      "36.\tTinyNotation (2): Expanding and subclassing\n",
      "37.\tClefs and Articulations\n",
      "38.\tInstruments\n",
      "39.\tScales\n",
      "40.\tAudio searching\n",
      "41.\tSpecies counterpoint\n",
      "42.\tRoman numeral analysis\n",
      "43.\tComposing algorithmic music\n",
      "44.\tFeature Extraction (1)\n",
      "45.\tRepeats\n",
      "46.\tPost tonal tools (2): Advanced and Xenakis Sieves\n",
      "47.\tChord symbols\n",
      "48.\tExpressions\n",
      "49.\tTempo\n",
      "50.\tFeature Extraction (2)\n",
      "51.\tFigured Bass\n",
      "52.\tMIDI -- advanced\n",
      "53.\tMedieval and Renaissance extensions\n"
     ]
    },
    {
     "cell_type": "code",
     "collapsed": false,
     "input": [],
     "language": "python",
     "metadata": {},
     "outputs": []
    }
   ],
   "metadata": {}
  }
 ]
}