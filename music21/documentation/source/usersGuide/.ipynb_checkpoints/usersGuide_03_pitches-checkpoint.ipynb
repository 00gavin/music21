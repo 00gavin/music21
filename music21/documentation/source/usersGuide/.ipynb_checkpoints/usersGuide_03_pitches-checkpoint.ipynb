{
 "metadata": {
  "name": "",
  "signature": "sha256:7be2d930e288376965a81baa4cb2818504c28e58210c97bef6f71a0c676e7da4"
 },
 "nbformat": 3,
 "nbformat_minor": 0,
 "worksheets": [
  {
   "cells": [
    {
     "cell_type": "code",
     "collapsed": false,
     "input": [
      "# ignore this\n",
      "%xmode plain\n",
      "%load_ext music21.ipython21.ipExtension"
     ],
     "language": "python",
     "metadata": {},
     "outputs": [
      {
       "output_type": "stream",
       "stream": "stdout",
       "text": [
        "Exception reporting mode: Plain\n"
       ]
      },
      {
       "html": [
        "\n",
        "     <script src='http://web.mit.edu/music21/music21j/ext/require/require.js'></script>\n",
        "     <script>\n",
        "    require.config(\n",
        "       { baseUrl: \"http://web.mit.edu/music21/music21j/src/\",\n",
        "         paths: {'music21': 'http://web.mit.edu/music21/music21j/src/music21',}\n",
        "        });\n",
        "    require(['music21'], function () {\n",
        "          var n = new music21.note.Note(\"D#4\");\n",
        "          var s = new music21.stream.Stream();\n",
        "          s.append(n);\n",
        "          console.log('music21 loaded fine');\n",
        "    });\n",
        "    </script>\n",
        "    "
       ],
       "metadata": {},
       "output_type": "display_data",
       "text": [
        "<IPython.core.display.HTML at 0x1072a4990>"
       ]
      }
     ],
     "prompt_number": 1
    },
    {
     "cell_type": "heading",
     "level": 1,
     "metadata": {},
     "source": [
      "User's Guide, Chapter 3: Pitches, Durations, and Notes again"
     ]
    },
    {
     "cell_type": "markdown",
     "metadata": {},
     "source": [
      "Now that you've made a couple of `Note` objects, it's time\n",
      "to dig a little deeper into what makes a `Note` really a\n",
      "`Note`, namely, :ref:`modulePitch`, and :ref:`moduleDuration`\n",
      "objects. "
     ]
    },
    {
     "cell_type": "heading",
     "level": 2,
     "metadata": {},
     "source": [
      "The Pitch object"
     ]
    },
    {
     "cell_type": "markdown",
     "metadata": {},
     "source": [
      "Since we've already covered `Note` objects, :class:`~music21.pitch.Pitch` objects\n",
      "will be a breeze.  Just like how the `Note` object is found\n",
      "in the `note` module, the `Pitch` object is found in the\n",
      "`pitch` module.\n",
      "\n",
      "Let's create a `Pitch`.  Like we did with `Notes`, just\n",
      "class the class with a note name, such as `B` with\n",
      "the optional symbols for sharp or flat, \n",
      "(*#* or *-* respectively). \n",
      "\n",
      "You can put an octave number after the name, but you\n",
      "don't have to:"
     ]
    },
    {
     "cell_type": "code",
     "collapsed": false,
     "input": [
      "from music21 import *\n",
      "p1 = pitch.Pitch('b-4')"
     ],
     "language": "python",
     "metadata": {},
     "outputs": [],
     "prompt_number": 1
    },
    {
     "cell_type": "markdown",
     "metadata": {},
     "source": [
      "Here we'll use a more abstract variable name, `p1`\n",
      "for our first `Pitch`, just in case we change the pitch\n",
      "later (via `.transpose()` or something else)."
     ]
    },
    {
     "cell_type": "markdown",
     "metadata": {},
     "source": [
      "Just like we saw with `Notes` there are a lot of\n",
      "attributes (a.k.a. properties; we'll use the term\n",
      "interchangeably for a bit before we talk about the\n",
      "difference) and methods that describe and change\n",
      "pitches.  The first three will be old hat from\n",
      "`Note` objects:"
     ]
    },
    {
     "cell_type": "code",
     "collapsed": false,
     "input": [
      "p1.octave"
     ],
     "language": "python",
     "metadata": {},
     "outputs": [
      {
       "metadata": {},
       "output_type": "pyout",
       "prompt_number": 2,
       "text": [
        "4"
       ]
      }
     ],
     "prompt_number": 2
    },
    {
     "cell_type": "code",
     "collapsed": false,
     "input": [
      "p1.pitchClass"
     ],
     "language": "python",
     "metadata": {},
     "outputs": [
      {
       "metadata": {},
       "output_type": "pyout",
       "prompt_number": 3,
       "text": [
        "10"
       ]
      }
     ],
     "prompt_number": 3
    },
    {
     "cell_type": "code",
     "collapsed": false,
     "input": [
      "p1.name"
     ],
     "language": "python",
     "metadata": {},
     "outputs": [
      {
       "metadata": {},
       "output_type": "pyout",
       "prompt_number": 5,
       "text": [
        "'B-'"
       ]
      }
     ],
     "prompt_number": 5
    },
    {
     "cell_type": "code",
     "collapsed": false,
     "input": [
      "p1.accidental.alter"
     ],
     "language": "python",
     "metadata": {},
     "outputs": [
      {
       "metadata": {},
       "output_type": "pyout",
       "prompt_number": 6,
       "text": [
        "-1.0"
       ]
      }
     ],
     "prompt_number": 6
    },
    {
     "cell_type": "markdown",
     "metadata": {},
     "source": [
      "Here are two more that you can use.  The first\n",
      "is pretty self-explanatory.  The second gives the\n",
      "value of the `Pitch` in the older, \"MIDI\" representation\n",
      "that is still in use today.  It's a number between 0 and\n",
      "127 where middle C (C4) is 60 and C#4/Db4 is 61, B3 is 59,\n",
      "etc."
     ]
    },
    {
     "cell_type": "code",
     "collapsed": false,
     "input": [
      "p1.nameWithOctave"
     ],
     "language": "python",
     "metadata": {},
     "outputs": [
      {
       "metadata": {},
       "output_type": "pyout",
       "prompt_number": 7,
       "text": [
        "'B-4'"
       ]
      }
     ],
     "prompt_number": 7
    },
    {
     "cell_type": "code",
     "collapsed": false,
     "input": [
      "p1.midi"
     ],
     "language": "python",
     "metadata": {},
     "outputs": [
      {
       "metadata": {},
       "output_type": "pyout",
       "prompt_number": 8,
       "text": [
        "70"
       ]
      }
     ],
     "prompt_number": 8
    },
    {
     "cell_type": "markdown",
     "metadata": {},
     "source": [
      "Most of these attributes can be changed (they are\n",
      "\"settable properties\" in Python speak)."
     ]
    },
    {
     "cell_type": "markdown",
     "metadata": {},
     "source": [
      "When an attribute is set, the `Pitch` object changes whatever\n",
      "is necessary to reflect the new value:"
     ]
    },
    {
     "cell_type": "code",
     "collapsed": false,
     "input": [
      "p1.name = 'd#'\n",
      "p1.octave = 3\n",
      "p1.nameWithOctave"
     ],
     "language": "python",
     "metadata": {},
     "outputs": [
      {
       "metadata": {},
       "output_type": "pyout",
       "prompt_number": 10,
       "text": [
        "'D#3'"
       ]
      }
     ],
     "prompt_number": 10
    },
    {
     "cell_type": "markdown",
     "metadata": {},
     "source": [
      "And our familiar `.transpose()` method also appears on\n",
      "`Pitch` as well.  Remember that `p1` is now a `D#`:"
     ]
    },
    {
     "cell_type": "code",
     "collapsed": false,
     "input": [
      "p2 = p1.transpose('M7')\n",
      "p2"
     ],
     "language": "python",
     "metadata": {},
     "outputs": [
      {
       "metadata": {},
       "output_type": "pyout",
       "prompt_number": 11,
       "text": [
        "<music21.pitch.Pitch C##4>"
       ]
      }
     ],
     "prompt_number": 11
    },
    {
     "cell_type": "markdown",
     "metadata": {},
     "source": [
      "Notice that at the command line, just printing the variable name\n",
      "gives you the representation `<music21.pitch.Pitch C##4>`.  You\n",
      "can also get this by typing `repr(p2)`."
     ]
    },
    {
     "cell_type": "markdown",
     "metadata": {},
     "source": [
      "So, there's really nothing new about `Pitch` objects\n",
      "that you didn't already know from learning about `Notes`. So\n",
      "why the two different objects?  It turns out, they are so\n",
      "similar because actually every `Note` object has a `Pitch`\n",
      "object inside it (like the monster in *Alien* but more\n",
      "benign).  Everything that we did with the `note.Note`\n",
      "object, we could do with the `note.Note.pitch` object instead:"
     ]
    },
    {
     "cell_type": "code",
     "collapsed": false,
     "input": [
      "csharp = note.Note('C#4')\n",
      "csharp.name"
     ],
     "language": "python",
     "metadata": {},
     "outputs": [
      {
       "metadata": {},
       "output_type": "pyout",
       "prompt_number": 13,
       "text": [
        "'C#'"
       ]
      }
     ],
     "prompt_number": 13
    },
    {
     "cell_type": "code",
     "collapsed": false,
     "input": [
      "csharp.pitch.name"
     ],
     "language": "python",
     "metadata": {},
     "outputs": [
      {
       "metadata": {},
       "output_type": "pyout",
       "prompt_number": 14,
       "text": [
        "'C#'"
       ]
      }
     ],
     "prompt_number": 14
    },
    {
     "cell_type": "code",
     "collapsed": false,
     "input": [
      "csharp.accidental"
     ],
     "language": "python",
     "metadata": {},
     "outputs": [
      {
       "metadata": {},
       "output_type": "pyout",
       "prompt_number": 15,
       "text": [
        "<accidental sharp>"
       ]
      }
     ],
     "prompt_number": 15
    },
    {
     "cell_type": "code",
     "collapsed": false,
     "input": [
      "csharp.pitch.accidental"
     ],
     "language": "python",
     "metadata": {},
     "outputs": [
      {
       "metadata": {},
       "output_type": "pyout",
       "prompt_number": 16,
       "text": [
        "<accidental sharp>"
       ]
      }
     ],
     "prompt_number": 16
    },
    {
     "cell_type": "code",
     "collapsed": false,
     "input": [
      "csharp.pitch.spanish"
     ],
     "language": "python",
     "metadata": {},
     "outputs": [
      {
       "metadata": {},
       "output_type": "pyout",
       "prompt_number": 19,
       "text": [
        "'do sostenido'"
       ]
      }
     ],
     "prompt_number": 19
    },
    {
     "cell_type": "code",
     "collapsed": false,
     "input": [
      "csharp.spanish"
     ],
     "language": "python",
     "metadata": {},
     "outputs": [
      {
       "ename": "AttributeError",
       "evalue": "'Note' object has no attribute 'spanish'",
       "output_type": "pyerr",
       "traceback": [
        "\u001b[0;31m---------------------------------------------------------------------------\u001b[0m\n\u001b[0;31mAttributeError\u001b[0m                            Traceback (most recent call last)",
        "\u001b[0;32m<ipython-input-23-8c908c31b14e>\u001b[0m in \u001b[0;36m<module>\u001b[0;34m()\u001b[0m\n\u001b[0;32m----> 1\u001b[0;31m \u001b[0mcsharp\u001b[0m\u001b[0;34m.\u001b[0m\u001b[0mspanish\u001b[0m\u001b[0;34m\u001b[0m\u001b[0m\n\u001b[0m",
        "\u001b[0;31mAttributeError\u001b[0m: 'Note' object has no attribute 'spanish'"
       ]
      }
     ],
     "prompt_number": 23
    },
    {
     "cell_type": "markdown",
     "metadata": {},
     "source": [
      "*By the way, you know how we said that you shouldn't have\n",
      "    a variable named `pitch` because there's already a module\n",
      "    named `pitch`.  You might wonder why `Note` objects can\n",
      "    have an attribute named `pitch` without causing any problems.\n",
      "    It's because the `.pitch` attribute is always attached to\n",
      "    a `Note`, so it's never used without a prefix of some sort\n",
      "    (in this case, `csharp.pitch`), and that's enough to\n",
      "    prevent any trouble.*"
     ]
    },
    {
     "cell_type": "markdown",
     "metadata": {},
     "source": [
      "So far, it looks like `Pitch` objects can do everything `Note`\n",
      "objects can do and more.  So why do we need `Note` objects?\n",
      "It's because they also have `Duration` attributes, as we'll see\n",
      "in the next section. Without a `Duration` attribute, you cannot put\n",
      "an object into a Measure or show it on your screen."
     ]
    },
    {
     "cell_type": "heading",
     "level": 2,
     "metadata": {},
     "source": [
      "Carving time with Duration objects"
     ]
    },
    {
     "cell_type": "markdown",
     "metadata": {},
     "source": [
      "For a `Note` to occupy musical space, it has to last a certain\n",
      "amount of time.  We call that time the `Note`'s :class:`~music21.duration.Duration`.\n",
      "`Duration` objects are ubiquitous in music21. Nearly all objects have, \n",
      "or can have, a `Duration`. A `Duration` object can represent just about \n",
      "any time span.\n",
      "\n",
      "`Duration` objects are best used when they're attached to something\n",
      "else, like a `Note` or a `Rest`, but for now, let's look at what\n",
      "we can do with them on their own.\n",
      "\n",
      "`Duration` objects reside in the `duration` module.  When you create\n",
      "a `Duration` object, you can say what type of duration you want it to\n",
      "be when you create it.\n",
      "\n",
      "Here we'll create the duration of a half note:"
     ]
    },
    {
     "cell_type": "code",
     "collapsed": false,
     "input": [
      "halfDuration = duration.Duration('half')"
     ],
     "language": "python",
     "metadata": {},
     "outputs": [],
     "prompt_number": 24
    },
    {
     "cell_type": "markdown",
     "metadata": {},
     "source": [
      "The string \"half\" is called the \"type\" of the `Duration`.\n",
      "Music21 `Durations` use the common American duration types:\n",
      "\"whole\", \"half\", \"quarter\", \"eighth\", \"16th\", \"32nd\", \"64th\".\n",
      "Note that for durations shorter than an eighth note, we use\n",
      "numbers instead of spelling out the whole name of the `Duration`\n",
      "type.  Music21 also supports less commonly used types such as\n",
      "\"breve\" (2 whole notes), \"longa\" (4 whole notes), and \"maxima\"\n",
      "(8 whole notes) and on the other side, \"128th\", \"256th\", etc.\n",
      "down to \"1024th\" notes. (Some of these very long and very short\n",
      "notes can't be displayed in many musical notation systems,\n",
      "but it's good to know that we're ready when they are).\n",
      "\n",
      "The other standard way of creating a `Duration` is by passing it a \n",
      "number when it is created.  That number represents how many quarter\n",
      "notes long it is.  So we could have created our half note `Duration`\n",
      "by saying `2` or `2.0`.  But we can also create `Durations` that\n",
      "aren't exactly \"whole\", \"half\", \"quarter\", etc.  Let's create a\n",
      "dotted quarter note, which is 1.5 quarter notes long:"
     ]
    },
    {
     "cell_type": "code",
     "collapsed": false,
     "input": [
      "dottedQuarter = duration.Duration(1.5)"
     ],
     "language": "python",
     "metadata": {},
     "outputs": [],
     "prompt_number": 25
    },
    {
     "cell_type": "markdown",
     "metadata": {},
     "source": [
      "As with the `Pitch` and `Note` objects we've already seen, there\n",
      "are a bunch of attributes that `Duration` objects have.  The\n",
      "most important one is `.quarterLength`.  The :attr:`~music21.duration.Duration.quarterLength` \n",
      "of our `dottedQuarter` variable is of course 1.5: we set it to be.\n",
      "But just as importantly, the `halfDuration` object also\n",
      "has its quarterLength set:"
     ]
    },
    {
     "cell_type": "code",
     "collapsed": false,
     "input": [
      "dottedQuarter.quarterLength"
     ],
     "language": "python",
     "metadata": {},
     "outputs": [
      {
       "metadata": {},
       "output_type": "pyout",
       "prompt_number": 26,
       "text": [
        "1.5"
       ]
      }
     ],
     "prompt_number": 26
    },
    {
     "cell_type": "code",
     "collapsed": false,
     "input": [
      "halfDuration.quarterLength"
     ],
     "language": "python",
     "metadata": {},
     "outputs": [
      {
       "metadata": {},
       "output_type": "pyout",
       "prompt_number": 27,
       "text": [
        "2.0"
       ]
      }
     ],
     "prompt_number": 27
    },
    {
     "cell_type": "markdown",
     "metadata": {},
     "source": [
      "The `.type` attribute tells you what general type of `Duration`\n",
      "you have:"
     ]
    },
    {
     "cell_type": "code",
     "collapsed": false,
     "input": [
      "halfDuration.type"
     ],
     "language": "python",
     "metadata": {},
     "outputs": [
      {
       "metadata": {},
       "output_type": "pyout",
       "prompt_number": 29,
       "text": [
        "'half'"
       ]
      }
     ],
     "prompt_number": 29
    },
    {
     "cell_type": "code",
     "collapsed": true,
     "input": [
      "dottedQuarter.type"
     ],
     "language": "python",
     "metadata": {},
     "outputs": [
      {
       "metadata": {},
       "output_type": "pyout",
       "prompt_number": 30,
       "text": [
        "'quarter'"
       ]
      }
     ],
     "prompt_number": 30
    },
    {
     "cell_type": "markdown",
     "metadata": {},
     "source": [
      "The `type` attribute cannot be everything that describes the\n",
      "`Duration`, there has to be some place where music21 keeps\n",
      "track of the fact that the `dottedQuarter` variable has a dot\n",
      "(otherwise it wouldn't have a `quarterLength` of 1.5).  You'll\n",
      "find the attribute called `.dots`:"
     ]
    },
    {
     "cell_type": "code",
     "collapsed": false,
     "input": [
      "halfDuration.dots"
     ],
     "language": "python",
     "metadata": {},
     "outputs": [
      {
       "metadata": {},
       "output_type": "pyout",
       "prompt_number": 31,
       "text": [
        "0"
       ]
      }
     ],
     "prompt_number": 31
    },
    {
     "cell_type": "code",
     "collapsed": false,
     "input": [
      "dottedQuarter.dots"
     ],
     "language": "python",
     "metadata": {},
     "outputs": [
      {
       "metadata": {},
       "output_type": "pyout",
       "prompt_number": 32,
       "text": [
        "1"
       ]
      }
     ],
     "prompt_number": 32
    },
    {
     "cell_type": "markdown",
     "metadata": {},
     "source": [
      "The attributes of `dots`, `type`, and `quarterLength` are\n",
      "actually special attributes called \"properties\".  A property\n",
      "is an attribute that is smart in some way.  Let's change the\n",
      "number of dots on our `dottedQuarter` object and see what\n",
      "happens to the `quarterLength` property:"
     ]
    },
    {
     "cell_type": "code",
     "collapsed": false,
     "input": [
      "dottedQuarter.dots = 2\n",
      "dottedQuarter.quarterLength"
     ],
     "language": "python",
     "metadata": {},
     "outputs": [
      {
       "metadata": {},
       "output_type": "pyout",
       "prompt_number": 33,
       "text": [
        "1.75"
       ]
      }
     ],
     "prompt_number": 33
    },
    {
     "cell_type": "code",
     "collapsed": false,
     "input": [
      "dottedQuarter.dots = 3\n",
      "dottedQuarter.quarterLength"
     ],
     "language": "python",
     "metadata": {},
     "outputs": [
      {
       "metadata": {},
       "output_type": "pyout",
       "prompt_number": 34,
       "text": [
        "1.875"
       ]
      }
     ],
     "prompt_number": 34
    },
    {
     "cell_type": "code",
     "collapsed": false,
     "input": [
      "dottedQuarter.dots = 4\n",
      "dottedQuarter.quarterLength"
     ],
     "language": "python",
     "metadata": {},
     "outputs": [
      {
       "metadata": {},
       "output_type": "pyout",
       "prompt_number": 35,
       "text": [
        "1.9375"
       ]
      }
     ],
     "prompt_number": 35
    },
    {
     "cell_type": "markdown",
     "metadata": {},
     "source": [
      "Or let's change the `quarterLength` of the dottedQuarter and\n",
      "see what happens to the `type` and `dots`:"
     ]
    },
    {
     "cell_type": "code",
     "collapsed": false,
     "input": [
      "dottedQuarter.quarterLength = 0.25\n",
      "dottedQuarter.type"
     ],
     "language": "python",
     "metadata": {},
     "outputs": [
      {
       "metadata": {},
       "output_type": "pyout",
       "prompt_number": 37,
       "text": [
        "'16th'"
       ]
      }
     ],
     "prompt_number": 37
    },
    {
     "cell_type": "code",
     "collapsed": false,
     "input": [
      "dottedQuarter.dots"
     ],
     "language": "python",
     "metadata": {},
     "outputs": [
      {
       "metadata": {},
       "output_type": "pyout",
       "prompt_number": 38,
       "text": [
        "0"
       ]
      }
     ],
     "prompt_number": 38
    },
    {
     "cell_type": "markdown",
     "metadata": {},
     "source": [
      "QuarterLengths are so important to music21 that we'll sometimes\n",
      "abbreviate them as `qL` or `qLs`.  Almost everything that is\n",
      "measured in music21 is measured in `qLs`.  \n",
      "\n",
      "There are sometimes `Durations` that can't be expressed easily\n",
      "as a single written `Note` on a page.  For instance, a `Note`\n",
      "lasting a half-note plus a sixteenth-note can't be written as\n",
      "a single `Note` graphic, but it's perfectly fine to use as a\n",
      "quarterLength"
     ]
    },
    {
     "cell_type": "code",
     "collapsed": false,
     "input": [
      "dottedQuarter.quarterLength = 2.25"
     ],
     "language": "python",
     "metadata": {},
     "outputs": [],
     "prompt_number": 39
    },
    {
     "cell_type": "markdown",
     "metadata": {},
     "source": [
      "The `type` for these odd values is called \"complex\":"
     ]
    },
    {
     "cell_type": "code",
     "collapsed": false,
     "input": [
      "dottedQuarter.type"
     ],
     "language": "python",
     "metadata": {},
     "outputs": [
      {
       "metadata": {},
       "output_type": "pyout",
       "prompt_number": 40,
       "text": [
        "'complex'"
       ]
      }
     ],
     "prompt_number": 40
    },
    {
     "cell_type": "markdown",
     "metadata": {},
     "source": [
      "*(There's one more strange* `type` *called \"zero\" for\n",
      "Durations that don't have any Duration at all.  It's\n",
      "used for measuring the conceptual length of grace notes,\n",
      "spaceless objects like* `Clefs`, *Kim Kardashian's marriages,\n",
      "etc.  We'll get to it later)*"
     ]
    },
    {
     "cell_type": "markdown",
     "metadata": {},
     "source": [
      "The :meth:`~music21.base.Music21Object.show` method \n",
      "will show that weird `2.25` Duration.  We have to first assign it to a note:"
     ]
    },
    {
     "cell_type": "raw",
     "metadata": {},
     "source": [
      "n = note.Note()\n",
      "n.duration = dottedQuarter\n",
      "n.notehead = 'square' # just for fun...\n",
      "n.show()"
     ]
    },
    {
     "cell_type": "markdown",
     "metadata": {},
     "source": [
      "<img src=\"files/images/usersGuide/overviewNotes-02.png\" style=\"width:600px\" />"
     ]
    },
    {
     "cell_type": "markdown",
     "metadata": {},
     "source": [
      "Music21 can also deal with other `quarterLengths` such as 0.8,\n",
      "which is 4/5ths of a quarter note, or 1/3 which is an eighth note triplet.\n",
      "Just be careful when creating triplets, because of a weird Python quirk\n",
      "that makes it so that if you divide two integers you always get back just\n",
      "the integer part of the number, so 8/3 is 2, since 8/3 is 2.66666... and\n",
      "the integer part is 2:"
     ]
    },
    {
     "cell_type": "code",
     "collapsed": false,
     "input": [
      "8/3"
     ],
     "language": "python",
     "metadata": {},
     "outputs": [
      {
       "metadata": {},
       "output_type": "pyout",
       "prompt_number": 49,
       "text": [
        "2"
       ]
      }
     ],
     "prompt_number": 49
    },
    {
     "cell_type": "code",
     "collapsed": false,
     "input": [
      "1/3"
     ],
     "language": "python",
     "metadata": {},
     "outputs": [
      {
       "metadata": {},
       "output_type": "pyout",
       "prompt_number": 50,
       "text": [
        "0"
       ]
      }
     ],
     "prompt_number": 50
    },
    {
     "cell_type": "markdown",
     "metadata": {},
     "source": [
      "To get the number you probably want, make sure that at least one\n",
      "of the numbers you are dividing is a float.  So:"
     ]
    },
    {
     "cell_type": "code",
     "collapsed": false,
     "input": [
      "8.0/3.0"
     ],
     "language": "python",
     "metadata": {},
     "outputs": [
      {
       "metadata": {},
       "output_type": "pyout",
       "prompt_number": 51,
       "text": [
        "2.6666666666666665"
       ]
      }
     ],
     "prompt_number": 51
    },
    {
     "cell_type": "code",
     "collapsed": false,
     "input": [
      "1.0/3"
     ],
     "language": "python",
     "metadata": {},
     "outputs": [
      {
       "metadata": {},
       "output_type": "pyout",
       "prompt_number": 53,
       "text": [
        "0.3333333333333333"
       ]
      }
     ],
     "prompt_number": 53
    },
    {
     "cell_type": "markdown",
     "metadata": {},
     "source": [
      "You can go ahead and make a Triplet or other :class:`~music21.duration.Tuplet`\n",
      "now, but we'll get to Triplets later."
     ]
    },
    {
     "cell_type": "heading",
     "level": 2,
     "metadata": {},
     "source": [
      "Back to Notes"
     ]
    },
    {
     "cell_type": "markdown",
     "metadata": {},
     "source": [
      "So now you can see the advantage of working with `Note` objects: they\n",
      "have both a `.pitch` attribute, which contains a `Pitch` object, and\n",
      "a `.duration` attribute, which contains a `Duration` object.  The\n",
      "default `Pitch` for a `Note` is `C` (meaning `C4`) \n",
      "and the default `Duration` is 1.0, or a quarter note."
     ]
    },
    {
     "cell_type": "code",
     "collapsed": false,
     "input": [
      "n1 = note.Note()\n",
      "n1.pitch"
     ],
     "language": "python",
     "metadata": {},
     "outputs": [
      {
       "metadata": {},
       "output_type": "pyout",
       "prompt_number": 54,
       "text": [
        "<music21.pitch.Pitch C4>"
       ]
      }
     ],
     "prompt_number": 54
    },
    {
     "cell_type": "code",
     "collapsed": false,
     "input": [
      "n1.duration"
     ],
     "language": "python",
     "metadata": {},
     "outputs": [
      {
       "metadata": {},
       "output_type": "pyout",
       "prompt_number": 55,
       "text": [
        "<music21.duration.Duration 1.0>"
       ]
      }
     ],
     "prompt_number": 55
    },
    {
     "cell_type": "markdown",
     "metadata": {},
     "source": [
      "But we can play around with them:"
     ]
    },
    {
     "cell_type": "code",
     "collapsed": false,
     "input": [
      "n1.pitch.nameWithOctave = 'E-5'\n",
      "n1.duration.quarterLength = 3.0"
     ],
     "language": "python",
     "metadata": {},
     "outputs": [],
     "prompt_number": 57
    },
    {
     "cell_type": "markdown",
     "metadata": {},
     "source": [
      "and then the other properties change accordingly:"
     ]
    },
    {
     "cell_type": "code",
     "collapsed": false,
     "input": [
      "n1.duration.type"
     ],
     "language": "python",
     "metadata": {},
     "outputs": [
      {
       "metadata": {},
       "output_type": "pyout",
       "prompt_number": 59,
       "text": [
        "'half'"
       ]
      }
     ],
     "prompt_number": 59
    },
    {
     "cell_type": "code",
     "collapsed": false,
     "input": [
      "n1.duration.dots"
     ],
     "language": "python",
     "metadata": {},
     "outputs": [
      {
       "metadata": {},
       "output_type": "pyout",
       "prompt_number": 60,
       "text": [
        "1"
       ]
      }
     ],
     "prompt_number": 60
    },
    {
     "cell_type": "code",
     "collapsed": false,
     "input": [
      "n1.pitch.name"
     ],
     "language": "python",
     "metadata": {},
     "outputs": [
      {
       "metadata": {},
       "output_type": "pyout",
       "prompt_number": 61,
       "text": [
        "'E-'"
       ]
      }
     ],
     "prompt_number": 61
    },
    {
     "cell_type": "code",
     "collapsed": false,
     "input": [
      "n1.pitch.accidental"
     ],
     "language": "python",
     "metadata": {},
     "outputs": [
      {
       "metadata": {},
       "output_type": "pyout",
       "prompt_number": 62,
       "text": [
        "<accidental flat>"
       ]
      }
     ],
     "prompt_number": 62
    },
    {
     "cell_type": "code",
     "collapsed": false,
     "input": [
      "n1.octave"
     ],
     "language": "python",
     "metadata": {},
     "outputs": [
      {
       "metadata": {},
       "output_type": "pyout",
       "prompt_number": 63,
       "text": [
        "5"
       ]
      }
     ],
     "prompt_number": 63
    },
    {
     "cell_type": "markdown",
     "metadata": {},
     "source": [
      "We already said that some of the attributes of `Pitch` can\n",
      "also be called on the `Note` object itself.  The same is\n",
      "true for the most important attributes of `Duration`:"
     ]
    },
    {
     "cell_type": "code",
     "collapsed": false,
     "input": [
      "n1.name"
     ],
     "language": "python",
     "metadata": {},
     "outputs": [
      {
       "metadata": {},
       "output_type": "pyout",
       "prompt_number": 64,
       "text": [
        "'E-'"
       ]
      }
     ],
     "prompt_number": 64
    },
    {
     "cell_type": "code",
     "collapsed": false,
     "input": [
      "n1.quarterLength"
     ],
     "language": "python",
     "metadata": {},
     "outputs": [
      {
       "metadata": {},
       "output_type": "pyout",
       "prompt_number": 65,
       "text": [
        "3.0"
       ]
      }
     ],
     "prompt_number": 65
    },
    {
     "cell_type": "code",
     "collapsed": false,
     "input": [
      "n1.accidental"
     ],
     "language": "python",
     "metadata": {},
     "outputs": [
      {
       "metadata": {},
       "output_type": "pyout",
       "prompt_number": 66,
       "text": [
        "<accidental flat>"
       ]
      }
     ],
     "prompt_number": 66
    },
    {
     "cell_type": "markdown",
     "metadata": {},
     "source": [
      "Let's change the quarterLength back to 1.0 for now:"
     ]
    },
    {
     "cell_type": "code",
     "collapsed": false,
     "input": [
      "n1.quarterLength = 1.0"
     ],
     "language": "python",
     "metadata": {},
     "outputs": [],
     "prompt_number": 67
    },
    {
     "cell_type": "markdown",
     "metadata": {},
     "source": [
      "`Notes` can do things that neither `Pitch` or `Duration`\n",
      "objects can do.  For instance, they can have lyrics.\n",
      "Let's add some lyrics to `Notes`.  You can easily set :class:`~music21.note.Lyric`\n",
      "objects just by setting the :attr:`~music21.note.Note.lyric` property"
     ]
    },
    {
     "cell_type": "code",
     "collapsed": false,
     "input": [
      "otherNote = note.Note(\"F6\")\n",
      "otherNote.lyric = \"I'm the Queen of the Night!\""
     ],
     "language": "python",
     "metadata": {},
     "outputs": [],
     "prompt_number": 68
    },
    {
     "cell_type": "markdown",
     "metadata": {},
     "source": [
      "But let's do something more complex.  Here I add multiple lyrics\n",
      "to `n1` using the `Note's` :meth:`~music21.note.GeneralNote.addLyric` method.\n",
      "And instead of adding a simple String, I'll add as a lyric the name of the\n",
      "note itself and its pitchClassString. "
     ]
    },
    {
     "cell_type": "code",
     "collapsed": false,
     "input": [
      "n1.addLyric(n1.name)\n",
      "n1.addLyric(n1.pitchClassString)"
     ],
     "language": "python",
     "metadata": {},
     "outputs": [],
     "prompt_number": 69
    },
    {
     "cell_type": "markdown",
     "metadata": {},
     "source": [
      "Finally, lets put the `quarterLength` of the note as a string with a\n",
      "preface \"QL: \":"
     ]
    },
    {
     "cell_type": "code",
     "collapsed": false,
     "input": [
      "n1.addLyric('QL: %s' % n1.quarterLength)"
     ],
     "language": "python",
     "metadata": {},
     "outputs": [],
     "prompt_number": 70
    },
    {
     "cell_type": "markdown",
     "metadata": {},
     "source": [
      "The format '`QL: %s`' says to put the first thing outside the quotes\n",
      "in place of `%s` as a string (the \"s\" in `%s` means to make it a\n",
      "string.  Remember that `.quarterLength` is not a string, but a \n",
      "float)."
     ]
    },
    {
     "cell_type": "markdown",
     "metadata": {},
     "source": [
      "As it should be becoming clear, we can always check our work \n",
      "with the :meth:`~music21.base.Music21Object.show` method."
     ]
    },
    {
     "cell_type": "raw",
     "metadata": {},
     "source": [
      "n1.show()"
     ]
    },
    {
     "cell_type": "markdown",
     "metadata": {},
     "source": [
      "<img src=\"/files/images/usersGuide/overviewNotes-03.png\" style=\"width:600px\" />"
     ]
    },
    {
     "cell_type": "markdown",
     "metadata": {},
     "source": [
      "If we now edit the \n",
      ":attr:`~music21.note.Note.quarterLength` property we can still change the\n",
      "`Note`'s `Duration`. But because we already set the lyric to show\n",
      "\"`QL: 1.0`, it won't be changed when we `.show()` it again in the following \n",
      "example."
     ]
    },
    {
     "cell_type": "code",
     "collapsed": false,
     "input": [
      "n1.quarterLength = 6.25"
     ],
     "language": "python",
     "metadata": {},
     "outputs": [],
     "prompt_number": 72
    },
    {
     "cell_type": "raw",
     "metadata": {},
     "source": [
      "n1.show()"
     ]
    },
    {
     "cell_type": "markdown",
     "metadata": {},
     "source": [
      "<img src=\"/files/images/usersGuide/overviewNotes-04.png\" style=\"width:600px\" />"
     ]
    },
    {
     "cell_type": "markdown",
     "metadata": {},
     "source": [
      "There many more things we can do with a `Note` object, but\n",
      "I'm itching to look at what happens when we put multiple\n",
      "`Notes` together in a row.  And to do that we'll need to\n",
      "learn a bit about `Streams`.  So click \"Next\" for Chapter 4."
     ]
    }
   ],
   "metadata": {}
  }
 ]
}