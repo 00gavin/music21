{
 "metadata": {
  "name": "",
  "signature": "sha256:60e0ee68e368069413aeac002b5da083d6d10aab24696fc90bcf115a0bba3276"
 },
 "nbformat": 3,
 "nbformat_minor": 0,
 "worksheets": [
  {
   "cells": [
    {
     "cell_type": "code",
     "collapsed": false,
     "input": [
      "# ignore this\n",
      "%load_ext music21.ipython21.ipExtension"
     ],
     "language": "python",
     "metadata": {},
     "outputs": [
      {
       "html": [
        "\n",
        "     <script src='http://web.mit.edu/music21/music21j/ext/require/require.js'></script>\n",
        "     <script>\n",
        "    require.config(\n",
        "       { baseUrl: \"http://web.mit.edu/music21/music21j/src/\",\n",
        "         paths: {'music21': 'http://web.mit.edu/music21/music21j/src/music21',}\n",
        "        });\n",
        "    require(['music21'], function () {\n",
        "          var n = new music21.note.Note(\"D#4\");\n",
        "          var s = new music21.stream.Stream();\n",
        "          s.append(n);\n",
        "          console.log('music21 loaded fine');\n",
        "    });\n",
        "    </script>\n",
        "    "
       ],
       "metadata": {},
       "output_type": "display_data",
       "text": [
        "<IPython.core.display.HTML at 0x1073f70d0>"
       ]
      }
     ],
     "prompt_number": 2
    },
    {
     "cell_type": "heading",
     "level": 1,
     "metadata": {},
     "source": [
      "User's Guide, Chapter 6: Streams (II): Hierarchies, Recursion, and Flattening"
     ]
    },
    {
     "cell_type": "markdown",
     "metadata": {},
     "source": [
      "We ended Chapter 4 (:ref:`usersGuide_04_stream1`) with a :class:`~music21.stream.Stream` that was\n",
      "contained within another `Stream` object.  Let's recreate that class:"
     ]
    },
    {
     "cell_type": "code",
     "collapsed": false,
     "input": [
      "from music21 import *\n",
      "\n",
      "note1 = note.Note(\"C4\")\n",
      "note1.duration.type = 'half'\n",
      "note2 = note.Note(\"F#4\")\n",
      "note3 = note.Note(\"B-2\")\n",
      "\n",
      "stream1 = stream.Stream()\n",
      "stream1.id = 'some notes'\n",
      "stream1.append(note1)\n",
      "stream1.append(note2)\n",
      "stream1.append(note3)\n",
      "\n",
      "biggerStream = stream.Stream()\n",
      "note2 = note.Note(\"D#5\")\n",
      "biggerStream.insert(0, note2)\n",
      "biggerStream.append(stream1)"
     ],
     "language": "python",
     "metadata": {},
     "outputs": [],
     "prompt_number": 3
    },
    {
     "cell_type": "markdown",
     "metadata": {},
     "source": [
      "The only way to find out what was in the contained\n",
      "Stream that we demonstrated so far was the :meth:`~music21.base.Music21Object.show` method\n",
      "using the `('text')` argument."
     ]
    },
    {
     "cell_type": "code",
     "collapsed": false,
     "input": [
      "biggerStream.show('text')"
     ],
     "language": "python",
     "metadata": {},
     "outputs": [
      {
       "output_type": "stream",
       "stream": "stdout",
       "text": [
        "{0.0} <music21.note.Note D#>\n",
        "{1.0} <music21.stream.Stream some notes>\n",
        "    {0.0} <music21.note.Note C>\n",
        "    {2.0} <music21.note.Note F#>\n",
        "    {3.0} <music21.note.Note B->\n"
       ]
      }
     ],
     "prompt_number": 4
    },
    {
     "cell_type": "markdown",
     "metadata": {},
     "source": [
      "As Chapter 4 noted, there's "
     ]
    },
    {
     "cell_type": "heading",
     "level": 2,
     "metadata": {},
     "source": [
      "Accessing Scores, Parts, Measures, and Notes"
     ]
    },
    {
     "cell_type": "markdown",
     "metadata": {},
     "source": [
      "Streams provide a way to structure and position music21 objects both hierarchically and temporally. A Stream, or a Stream subclass such as :class:`~music21.stream.Measure`, can be placed within another Stream. \n",
      "\n",
      "A common arrangement of nested Streams is a \n",
      ":class:`~music21.stream.Score` Stream containing one or more \n",
      ":class:`~music21.stream.Part` Streams, each Part Stream in turn containing one \n",
      "or more :class:`~music21.stream.Measure` Streams. \n",
      "\n",
      "Such an arrangement of Stream objects is the common way musical scores are represented in music21. For example, importing a four-part chorale by J. S. Bach will provide a Score object with four Part Streams, each Part containing multiple Measure objects. Music21 comes with a :ref:`moduleCorpus` module that provides access to a large collection of scores, including all the Bach chorales. We can parse the score from the corpus with the :func:`~music21.corpus.parse` function. \n"
     ]
    },
    {
     "cell_type": "code",
     "collapsed": false,
     "input": [
      "sBach = corpus.parse('bach/bwv57.8')"
     ],
     "language": "python",
     "metadata": {},
     "outputs": [],
     "prompt_number": 6
    },
    {
     "cell_type": "markdown",
     "metadata": {},
     "source": [
      "We can access and examine elements at each level of this Score by using standard Python syntax \n",
      "for lists within lists. Thus, we can see the length of each component: \n",
      "first the Score which has five elements, a :class:`~music21.metadata.Metadata` object and four parts.\n",
      "Then we find the length of first Part at index one which indicates 19 objects (18 of them are measures).  \n",
      "Then within that part we find an object (a Measure) at index 1. All of these subprograms can\n",
      "be accessed from looking within the same score object `sBach`."
     ]
    },
    {
     "cell_type": "code",
     "collapsed": false,
     "input": [
      "len(sBach)"
     ],
     "language": "python",
     "metadata": {},
     "outputs": [
      {
       "metadata": {},
       "output_type": "pyout",
       "prompt_number": 7,
       "text": [
        "6"
       ]
      }
     ],
     "prompt_number": 7
    },
    {
     "cell_type": "code",
     "collapsed": false,
     "input": [
      "len(sBach[1])"
     ],
     "language": "python",
     "metadata": {},
     "outputs": [
      {
       "metadata": {},
       "output_type": "pyout",
       "prompt_number": 8,
       "text": [
        "19"
       ]
      }
     ],
     "prompt_number": 8
    },
    {
     "cell_type": "code",
     "collapsed": false,
     "input": [
      "len(sBach[1][1])"
     ],
     "language": "python",
     "metadata": {},
     "outputs": [
      {
       "metadata": {},
       "output_type": "pyout",
       "prompt_number": 9,
       "text": [
        "6"
       ]
      }
     ],
     "prompt_number": 9
    },
    {
     "cell_type": "markdown",
     "metadata": {},
     "source": [
      "But how did we know that index [1] would be a Part and index [1][1] would\n",
      "be a measure?  As writers of the tutorial, we know this piece well enough\n",
      "to know that.  But as we noted above, more than just Measures might be \n",
      "stored in a Part object\n",
      "(such as :class:`~music21.instrument.Instrument` objects), \n",
      "and more than just Note and Rest objects might be stored in a Measure \n",
      "(such as :class:`~music21.meter.TimeSignature` \n",
      "and :class:`~music21.key.KeySignature` objects). We it's much safer \n",
      "to filter Stream and Stream subclasses by \n",
      "the class we seek. To repeat the count and select specific classes, \n",
      "we can use the :meth:`~music21.stream.Stream.getElementsByClass` method. \n",
      "\n",
      "Notice how the counts deviate from the examples above."
     ]
    },
    {
     "cell_type": "code",
     "collapsed": false,
     "input": [
      "len(sBach.getElementsByClass(stream.Part))"
     ],
     "language": "python",
     "metadata": {},
     "outputs": [
      {
       "metadata": {},
       "output_type": "pyout",
       "prompt_number": 10,
       "text": [
        "4"
       ]
      }
     ],
     "prompt_number": 10
    },
    {
     "cell_type": "code",
     "collapsed": false,
     "input": [
      "len(sBach.getElementsByClass(stream.Part)[0].getElementsByClass(stream.Measure))"
     ],
     "language": "python",
     "metadata": {},
     "outputs": [
      {
       "metadata": {},
       "output_type": "pyout",
       "prompt_number": 11,
       "text": [
        "18"
       ]
      }
     ],
     "prompt_number": 11
    },
    {
     "cell_type": "code",
     "collapsed": false,
     "input": [
      "len(sBach.getElementsByClass(stream.Part)[0].getElementsByClass(stream.Measure)[1].getElementsByClass(note.Note))"
     ],
     "language": "python",
     "metadata": {},
     "outputs": [
      {
       "metadata": {},
       "output_type": "pyout",
       "prompt_number": 12,
       "text": [
        "3"
       ]
      }
     ],
     "prompt_number": 12
    },
    {
     "cell_type": "markdown",
     "metadata": {},
     "source": [
      "The :meth:`~music21.stream.Stream.getElementsByClass` method can also take a\n",
      "string representation of the last section of the class name. Thus we could've rewritten\n",
      "the first call above as:"
     ]
    },
    {
     "cell_type": "code",
     "collapsed": false,
     "input": [
      "len(sBach.getElementsByClass('Part'))"
     ],
     "language": "python",
     "metadata": {},
     "outputs": [
      {
       "metadata": {},
       "output_type": "pyout",
       "prompt_number": 13,
       "text": [
        "4"
       ]
      }
     ],
     "prompt_number": 13
    },
    {
     "cell_type": "markdown",
     "metadata": {},
     "source": [
      "This way of doing things is a bit faster to code, but a little less safe.  Suppose,\n",
      "for instance there were objects of type stream.Measure and tape.Measure; the latter\n",
      "way of writing the code would get both of them.  (But this ambiguity is rare enough\n",
      "that it's safe enough to use the strings in most code.)"
     ]
    },
    {
     "cell_type": "markdown",
     "metadata": {},
     "source": [
      "There are some convenience properties you should know about.  Calling `.parts` is the\n",
      "same as `.getElementsByClass(stream.Part)` and calling `.notes` is the same as\n",
      "`.getElementsByClass([note.Note, note.Chord])`.  Notice that the last example also shows\n",
      "that you can give more than one class to `getElementsByClass` by passing in a list of\n",
      "classes.   Note also that when using `.parts` or `.notes`, you do not write the `()` after\n",
      "the name.  Also be aware that `.notes` does not include rests.  For that, we have a\n",
      "method called `.notesAndRests`."
     ]
    },
    {
     "cell_type": "markdown",
     "metadata": {},
     "source": [
      "The index position of a Measure is often not the same as the Measure number.  For instance,\n",
      "most pieces that don't have pickup measures begin with measure 1, not zero.  Sometimes there are measure\n",
      "discontinuities within a piece (e.g., some people number first and second endings with the same\n",
      "measure number).\n",
      "For that reason, gathering Measures is best accomplished not with getElementsByClass(stream.Measure)\n",
      "but instead with either \n",
      "the :meth:`~music21.stream.Stream.measures` method (returning a Stream of Parts or Measures) \n",
      "or the :meth:`~music21.stream.Stream.measure` method (returning a single Measure).  What is great\n",
      "about these methods is that they can work on a whole score and not just a single part."
     ]
    },
    {
     "cell_type": "code",
     "collapsed": false,
     "input": [
      "sNew = stream.Stream()\n",
      "sNew.append(sBach.parts[1].measure(4))\n",
      "sNew.show()"
     ],
     "language": "python",
     "metadata": {},
     "outputs": [
      {
       "metadata": {},
       "output_type": "pyout",
       "png": "[encoded data removed]",
       "prompt_number": 31,
       "text": [
        "<music21.ipython21.objects.IPythonPNGObject at 0x1073f7750>"
       ]
      }
     ],
     "prompt_number": 31
    },
    {
     "cell_type": "code",
     "collapsed": false,
     "input": [],
     "language": "python",
     "metadata": {},
     "outputs": []
    },
    {
     "cell_type": "code",
     "collapsed": false,
     "input": [],
     "language": "python",
     "metadata": {},
     "outputs": []
    },
    {
     "cell_type": "code",
     "collapsed": false,
     "input": [],
     "language": "python",
     "metadata": {},
     "outputs": []
    },
    {
     "cell_type": "heading",
     "level": 2,
     "metadata": {},
     "source": [
      "Recursion in Streams"
     ]
    },
    {
     "cell_type": "heading",
     "level": 2,
     "metadata": {},
     "source": [
      "Flattening a Stream"
     ]
    },
    {
     "cell_type": "code",
     "collapsed": false,
     "input": [],
     "language": "python",
     "metadata": {},
     "outputs": [],
     "prompt_number": 5
    }
   ],
   "metadata": {}
  }
 ]
}