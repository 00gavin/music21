{
 "metadata": {
  "name": "",
  "signature": "sha256:4fe4aeda0939a34d6b298b8ea70a2db33dccd622420f39a496faa18781e7aea5"
 },
 "nbformat": 3,
 "nbformat_minor": 0,
 "worksheets": [
  {
   "cells": [
    {
     "cell_type": "code",
     "collapsed": false,
     "input": [
      "# ignore this\n",
      "%xmode plain\n",
      "%load_ext music21.ipython21.ipExtension"
     ],
     "language": "python",
     "metadata": {},
     "outputs": [
      {
       "output_type": "stream",
       "stream": "stdout",
       "text": [
        "Exception reporting mode: Plain\n",
        "The music21.ipython21.ipExtension extension is already loaded. To reload it, use:\n",
        "  %reload_ext music21.ipython21.ipExtension\n"
       ]
      }
     ],
     "prompt_number": 15
    },
    {
     "cell_type": "heading",
     "level": 1,
     "metadata": {},
     "source": [
      "User's Guide, Chapter 2: Notes"
     ]
    },
    {
     "cell_type": "markdown",
     "metadata": {},
     "source": [
      "Notated music, by its very name, consists of a bunch of notes that are put one after another or simultaneously on a staff. There are other things, clefs, key signatures, slurs, etc. but the heart of music is the notes; so to get anywhere in music21 you\u2019ll need to know what the toolkit thinks about notes and how to work with them. "
     ]
    },
    {
     "cell_type": "markdown",
     "metadata": {},
     "source": [
      "Go ahead and start IDLE or type \u201cpython\u201d at the command line (Terminal on the Mac or \u201crun: cmd\u201d on Windows) and let\u2019s get started."
     ]
    },
    {
     "cell_type": "heading",
     "level": 2,
     "metadata": {},
     "source": [
      "Creating and working with Notes"
     ]
    },
    {
     "cell_type": "markdown",
     "metadata": {},
     "source": [
      "The music21 concept of a standard note is contained in the :class:`~music21.note.Note` object, which is found in the\n",
      "`note` module. "
     ]
    },
    {
     "cell_type": "markdown",
     "metadata": {},
     "source": [
      "**Read this if you're new to Python** *(others can skip ahead):* Notice the \n",
      "difference between object names and\n",
      "module names.  Modules, which can contain one, many, or even\n",
      "zero objects, always begin with a lowercase letter.  Music21's\n",
      "objects always begin with a captial letter.  So the `Note` object\n",
      "is found in the `note` module.  The distinction between uppercase\n",
      "and lowercase is crucial to Python: if you type the name of an\n",
      "object with the wrong case it won't know what to do and won't\n",
      "give you any help in distinguishing between them."
     ]
    },
    {
     "cell_type": "markdown",
     "metadata": {},
     "source": [
      "In the `note` module, there are other classes besides `note.Note`.\n",
      "The most important one is `note.Rest`, which as you imagine\n",
      "represents a rest.  If we load music21 with the command:"
     ]
    },
    {
     "cell_type": "code",
     "collapsed": false,
     "input": [
      "from music21 import *"
     ],
     "language": "python",
     "metadata": {},
     "outputs": [],
     "prompt_number": 16
    },
    {
     "cell_type": "markdown",
     "metadata": {},
     "source": [
      "then you'll now be able to access the `note` module just by\n",
      "typing `note` at any command line."
     ]
    },
    {
     "cell_type": "raw",
     "metadata": {},
     "source": [
      ">>> note # doctest: +SKIP\n",
      "<module 'music21.note' from 'D:\\music21files\\music21\\note.pyc'>"
     ]
    },
    {
     "cell_type": "markdown",
     "metadata": {},
     "source": [
      "If you get something like this you'll have access to the music21\n",
      "`note` module any time you type `\"note\"`.  The filename after\n",
      "\"from 'D:\\\\music21files...'\" will differ for you.  It will show\n",
      "you where you have music21 installed (if you ever forget where\n",
      "you have music21 installed, this is an easy way to figure it out).  \n",
      "As long as it ends in `note.pyc` or `note.py` or something like that\n",
      "you're fine."
     ]
    },
    {
     "cell_type": "markdown",
     "metadata": {},
     "source": [
      "If you want to know what else the `note` module contains besides\n",
      "the Note and Rest objects you can type \"`dir(note)`\" to find out:"
     ]
    },
    {
     "cell_type": "code",
     "collapsed": false,
     "input": [
      "dir(note)"
     ],
     "language": "python",
     "metadata": {},
     "outputs": [
      {
       "metadata": {},
       "output_type": "pyout",
       "prompt_number": 17,
       "text": [
        "['EighthNote',\n",
        " 'GeneralNote',\n",
        " 'HalfNote',\n",
        " 'Lyric',\n",
        " 'LyricException',\n",
        " 'NotRest',\n",
        " 'NotRestException',\n",
        " 'Note',\n",
        " 'NoteException',\n",
        " 'QuarterNote',\n",
        " 'Rest',\n",
        " 'SlottedObject',\n",
        " 'SpacerRest',\n",
        " 'Test',\n",
        " 'TestExternal',\n",
        " 'Unpitched',\n",
        " 'WholeNote',\n",
        " '_DOC_ORDER',\n",
        " '_MOD',\n",
        " '__builtins__',\n",
        " '__doc__',\n",
        " '__file__',\n",
        " '__name__',\n",
        " '__package__',\n",
        " 'base',\n",
        " 'beam',\n",
        " 'common',\n",
        " 'copy',\n",
        " 'duration',\n",
        " 'editorial',\n",
        " 'environLocal',\n",
        " 'environment',\n",
        " 'exceptions21',\n",
        " 'expressions',\n",
        " 'interval',\n",
        " 'noteheadTypeNames',\n",
        " 'pitch',\n",
        " 'stemDirectionNames',\n",
        " 'tie',\n",
        " 'unittest',\n",
        " 'volume']"
       ]
      }
     ],
     "prompt_number": 17
    },
    {
     "cell_type": "markdown",
     "metadata": {},
     "source": [
      "Some of these Objects are just easier ways of making specific kinds of Note objects \n",
      "(half notes, etc.).  Others of them are things that we'll get to later, like\n",
      ":class:`~music21.note.Lyric` objects.  (By the way: I'm highlighting the names of\n",
      "most objects so they become links to the full documentation for the object. You \n",
      "can read it later when you're curious, frustrated, or *Mad Men* is a re-run; you\n",
      "certainly don't need to click them now)."
     ]
    },
    {
     "cell_type": "markdown",
     "metadata": {},
     "source": [
      "(Advanced digression):"
     ]
    },
    {
     "cell_type": "markdown",
     "metadata": {},
     "source": [
      "    If you're more of a Python guru and you're afraid of \"polluting your namespace,\"\n",
      "    instead of typing \"`from music21 import \\*`\" you can type:"
     ]
    },
    {
     "cell_type": "code",
     "collapsed": false,
     "input": [
      "    import music21"
     ],
     "language": "python",
     "metadata": {},
     "outputs": [],
     "prompt_number": 18
    },
    {
     "cell_type": "markdown",
     "metadata": {},
     "source": [
      "    in which case instead of using the word `note`, you'll need to call it `music21.note`"
     ]
    },
    {
     "cell_type": "raw",
     "metadata": {},
     "source": [
      "    music21.note # doctest: +SKIP\n",
      "    <module 'music21.note' from 'D:\\music21files\\music21\\note.pyc'>"
     ]
    },
    {
     "cell_type": "markdown",
     "metadata": {},
     "source": [
      "    If you are a Python guru, you already knew that.  Probably if you didn't already \n",
      "    know that, but you've heard about \"polluting your namespace,\" you have a Python\n",
      "    guru friend who has screamed, \"Never use `import \\*`!\"  Trust me for now that\n",
      "    this tutorial will be easier if you ignore your friend for a bit; by the end of\n",
      "    it you'll know enough to be able to follow whatever advice seems most natural to\n",
      "    you."
     ]
    },
    {
     "cell_type": "markdown",
     "metadata": {},
     "source": [
      "*(Back from the Python digression and especially the digression of the digression):* "
     ]
    },
    {
     "cell_type": "markdown",
     "metadata": {},
     "source": [
      "Okay, so now you now enough about modules and\n",
      "objects.  Let's create a `note.Note` object.  How about the F at the top of the\n",
      "treble clef staff:"
     ]
    },
    {
     "cell_type": "code",
     "collapsed": false,
     "input": [
      "f = note.Note(\"F5\")"
     ],
     "language": "python",
     "metadata": {},
     "outputs": [],
     "prompt_number": 19
    },
    {
     "cell_type": "markdown",
     "metadata": {},
     "source": [
      "We use the convention where middle-C is C4, the octave above it is C5, etc."
     ]
    },
    {
     "cell_type": "markdown",
     "metadata": {},
     "source": [
      "Now you have a Note.  Where is it?  It's stored in the variable `f`.  You can\n",
      "verify this just by typing `f`:"
     ]
    },
    {
     "cell_type": "code",
     "collapsed": false,
     "input": [
      "f"
     ],
     "language": "python",
     "metadata": {},
     "outputs": [
      {
       "metadata": {},
       "output_type": "pyout",
       "prompt_number": 20,
       "text": [
        "<music21.note.Note F>"
       ]
      }
     ],
     "prompt_number": 20
    },
    {
     "cell_type": "markdown",
     "metadata": {},
     "source": [
      "And you can see that it's actually an F and actually in octave 5 by requesting the\n",
      "`.name` and `.octave` attributes on the `Note` object, `f`:"
     ]
    },
    {
     "cell_type": "code",
     "collapsed": false,
     "input": [
      "f.name"
     ],
     "language": "python",
     "metadata": {},
     "outputs": [
      {
       "metadata": {},
       "output_type": "pyout",
       "prompt_number": 21,
       "text": [
        "'F'"
       ]
      }
     ],
     "prompt_number": 21
    },
    {
     "cell_type": "code",
     "collapsed": false,
     "input": [
      "f.octave"
     ],
     "language": "python",
     "metadata": {},
     "outputs": [
      {
       "metadata": {},
       "output_type": "pyout",
       "prompt_number": 22,
       "text": [
        "5"
       ]
      }
     ],
     "prompt_number": 22
    },
    {
     "cell_type": "markdown",
     "metadata": {},
     "source": [
      "Well, that didn't tell you anything you didn't know already! Let's look at\n",
      "some other attributes that might tell you something you didn't know:"
     ]
    },
    {
     "cell_type": "code",
     "collapsed": false,
     "input": [
      "f.frequency"
     ],
     "language": "python",
     "metadata": {},
     "outputs": [
      {
       "metadata": {},
       "output_type": "pyout",
       "prompt_number": 23,
       "text": [
        "698.456462866008"
       ]
      }
     ],
     "prompt_number": 23
    },
    {
     "cell_type": "code",
     "collapsed": false,
     "input": [
      "f.pitchClassString"
     ],
     "language": "python",
     "metadata": {},
     "outputs": [
      {
       "metadata": {},
       "output_type": "pyout",
       "prompt_number": 24,
       "text": [
        "'5'"
       ]
      }
     ],
     "prompt_number": 24
    },
    {
     "cell_type": "markdown",
     "metadata": {},
     "source": [
      "That's a bit better! So an f is about 698hz (if A4 = 440hz), and it is pitch\n",
      "class 5 (where C = 0, C# and Db = 1, etc.)."
     ]
    },
    {
     "cell_type": "markdown",
     "metadata": {},
     "source": [
      "A couple of things that you'll notice:"
     ]
    },
    {
     "cell_type": "markdown",
     "metadata": {},
     "source": [
      "1. Your `frequency` probably has a bunch more numbers instead of ending with\n",
      "    \"...\".  Mine gives me \"698.456462866008\".  In the docs, we'll sometimes\n",
      "    write \"...\" instead of putting in all those numbers (or long strings); it's\n",
      "    partly a way of saving space, and also because the length of a long number\n",
      "    and even the last few digits will differ from computer to computer depending\n",
      "    on whether it's 32-bit or 64-bit, Mac or PC, number of sunspots last Autumn, etc.\n",
      "    Since I don't know what computer you're using, don't worry if you get slightly\n",
      "    different results."
     ]
    },
    {
     "cell_type": "markdown",
     "metadata": {},
     "source": [
      "2. There are single quotes around some of the output (like the `'F'` in `f.name`) and\n",
      "    none around others (like the `5` in `f.octave`).  The quotes mean that that attribute\n",
      "    is returning a String (a bunch of letters or numbers or simple symbols).\n",
      "    The lack of quotes means that it's returning a number (either an integer\n",
      "    or if there's a decimal point, a sneakingly decimal-like thingy called a\n",
      "    `float` (or \"floating-point number\") which looks and acts just like a decimal,\n",
      "    except when it doesn't, which is never when you'd expect. "
     ]
    },
    {
     "cell_type": "markdown",
     "metadata": {},
     "source": [
      "   *(The history\n",
      "        and theory behind* `floats` *will be explained to you at length by any\n",
      "        computer scientist, usually when he or she is\n",
      "        the only thing standing between you and the bar at a party. Really, we \n",
      "        shouldn't be using them anymore, except for the fact that for our computers \n",
      "        they're so much faster to work with than decimals.)*"
     ]
    },
    {
     "cell_type": "markdown",
     "metadata": {},
     "source": [
      "The difference between the string `'5'` and\n",
      "    the number `5` is essential to keep in mind.  In Python (like most \n",
      "    modern programming languages) we use two equal signs (`==`) to ask if\n",
      "    two things are equal.  So:"
     ]
    },
    {
     "cell_type": "code",
     "collapsed": false,
     "input": [
      "f.octave == 5"
     ],
     "language": "python",
     "metadata": {},
     "outputs": [
      {
       "metadata": {},
       "output_type": "pyout",
       "prompt_number": 25,
       "text": [
        "True"
       ]
      }
     ],
     "prompt_number": 25
    },
    {
     "cell_type": "markdown",
     "metadata": {},
     "source": [
      "That's what we'd expect.  But try:"
     ]
    },
    {
     "cell_type": "code",
     "collapsed": false,
     "input": [
      "f.pitchClassString == 5"
     ],
     "language": "python",
     "metadata": {},
     "outputs": [
      {
       "metadata": {},
       "output_type": "pyout",
       "prompt_number": 26,
       "text": [
        "False"
       ]
      }
     ],
     "prompt_number": 26
    },
    {
     "cell_type": "markdown",
     "metadata": {},
     "source": [
      "That's because `5 == '5'` is `False`.  (There are some lovely languages\n",
      "    such as JavaScript and Perl where it's `True`; Python's not one of them.\n",
      "    This has many disadvantages at first, but as you go on, you might see\n",
      "    this as an advantage).  So to see if `f.pitchClassString` is `'5'` we need\n",
      "    to make `'5'` a string by putting it in quotes:"
     ]
    },
    {
     "cell_type": "code",
     "collapsed": false,
     "input": [
      "f.pitchClassString == \"5\""
     ],
     "language": "python",
     "metadata": {},
     "outputs": [
      {
       "metadata": {},
       "output_type": "pyout",
       "prompt_number": 27,
       "text": [
        "True"
       ]
      }
     ],
     "prompt_number": 27
    },
    {
     "cell_type": "markdown",
     "metadata": {},
     "source": [
      "In Python it doesn't matter if you put the `5` in single or double quotes:"
     ]
    },
    {
     "cell_type": "code",
     "collapsed": false,
     "input": [
      "f.pitchClassString == '5'"
     ],
     "language": "python",
     "metadata": {},
     "outputs": [
      {
       "metadata": {},
       "output_type": "pyout",
       "prompt_number": 28,
       "text": [
        "True"
       ]
      }
     ],
     "prompt_number": 28
    },
    {
     "cell_type": "markdown",
     "metadata": {},
     "source": [
      "`pitchClassString` tells you that you should expect a string, because we've\n",
      "    put it in the name.  There's also a `.pitchClass` which returns a number:"
     ]
    },
    {
     "cell_type": "code",
     "collapsed": false,
     "input": [
      "f.pitchClass"
     ],
     "language": "python",
     "metadata": {},
     "outputs": [
      {
       "metadata": {},
       "output_type": "pyout",
       "prompt_number": 29,
       "text": [
        "5"
       ]
      }
     ],
     "prompt_number": 29
    },
    {
     "cell_type": "markdown",
     "metadata": {},
     "source": [
      "These two ways of getting a pitch class are basically the same for the note \"F\" \n",
      "    (except that one's a string\n",
      "    and the other is an integer) but for a B-flat, \n",
      "    which is `.pitchClass` 10 and `.pitchClassString` \"A\", it makes a difference."
     ]
    },
    {
     "cell_type": "markdown",
     "metadata": {},
     "source": [
      "Let's go ahead and make that B-flat note.  In `music21`, sharps are \"#\" as you\n",
      "might expect, but flats are \"-\".  That's because it's otherwise hard to tell the\n",
      "difference between the `Note` \"b\" (in this instance, you can write it in upper or\n",
      "lower case) and the symbol \"flat\".  So let's make that B-flat note:"
     ]
    },
    {
     "cell_type": "code",
     "collapsed": false,
     "input": [
      "bflat = note.Note(\"B-2\")"
     ],
     "language": "python",
     "metadata": {},
     "outputs": [],
     "prompt_number": 30
    },
    {
     "cell_type": "markdown",
     "metadata": {},
     "source": [
      "I've called the variable \"`bflat`\" here.  You could call it \"`Bb`\" if you want or\n",
      "\"`b_flat`\", but not \"`b-flat`\" because dashes aren't allowed in variable names:"
     ]
    },
    {
     "cell_type": "code",
     "collapsed": false,
     "input": [
      "b-flat = note.Note(\"B-2\")"
     ],
     "language": "python",
     "metadata": {},
     "outputs": [
      {
       "ename": "SyntaxError",
       "evalue": "can't assign to operator (<ipython-input-31-d519b3e88921>, line 1)",
       "output_type": "pyerr",
       "traceback": [
        "\u001b[0;36m  File \u001b[0;32m\"<ipython-input-31-d519b3e88921>\"\u001b[0;36m, line \u001b[0;32m1\u001b[0m\n\u001b[0;31m    b-flat = note.Note(\"B-2\")\u001b[0m\n\u001b[0;31mSyntaxError\u001b[0m\u001b[0;31m:\u001b[0m can't assign to operator\n"
       ]
      }
     ],
     "prompt_number": 31
    },
    {
     "cell_type": "markdown",
     "metadata": {},
     "source": [
      "Since this note has an accidental you can get it by using the `.accidental` property:"
     ]
    },
    {
     "cell_type": "code",
     "collapsed": false,
     "input": [
      "bflat.accidental"
     ],
     "language": "python",
     "metadata": {},
     "outputs": [
      {
       "metadata": {},
       "output_type": "pyout",
       "prompt_number": 32,
       "text": [
        "<accidental flat>"
       ]
      }
     ],
     "prompt_number": 32
    },
    {
     "cell_type": "markdown",
     "metadata": {},
     "source": [
      "Here we have something that isn't a number and doesn't have quotes around it.  That\n",
      "usually means that what `.accidental` returns is another object -- in this case an\n",
      ":class:`~music21.pitch.Accidental` object.  As we saw above, objects have attributes\n",
      "(and other goodies we'll get to in a second) and the `Accidental` object is no \n",
      "exception.  So let's make a new variable that will store `bflat`'s accidental:"
     ]
    },
    {
     "cell_type": "code",
     "collapsed": false,
     "input": [
      "acc = bflat.accidental"
     ],
     "language": "python",
     "metadata": {},
     "outputs": [],
     "prompt_number": 33
    },
    {
     "cell_type": "markdown",
     "metadata": {},
     "source": [
      "We'll get to all the attributes of `Accidental` objects in a bit, but here are two of\n",
      "them: `.alter` and `.displayLocation`.  You'll use the first one quite a bit: it shows\n",
      "how many semitones this `Accidental` changes the `Note`:"
     ]
    },
    {
     "cell_type": "code",
     "collapsed": false,
     "input": [
      "acc.alter"
     ],
     "language": "python",
     "metadata": {},
     "outputs": [
      {
       "metadata": {},
       "output_type": "pyout",
       "prompt_number": 34,
       "text": [
        "-1.0"
       ]
      }
     ],
     "prompt_number": 34
    },
    {
     "cell_type": "markdown",
     "metadata": {},
     "source": [
      "Since this `Accidental` is a flat, its `.alter` is a negative number.  Notice that it's also not an integer,\n",
      "but a float.  That might indicate that music21 supports things like quarter-tones,\n",
      "and in this case you'd be right.  "
     ]
    },
    {
     "cell_type": "markdown",
     "metadata": {},
     "source": [
      "Look back at the two lines \"`acc = bflat.accidental`\" \n",
      "and \"`acc.alter`\".  We set `acc` to be the value of `bflat`'s `.accidental` attribute\n",
      "and then we get the value of that variable's `.alter` attribute. We could have skipped the first step altogether and \"chained\" the\n",
      "two attributes together in one step:"
     ]
    },
    {
     "cell_type": "code",
     "collapsed": false,
     "input": [
      "bflat.accidental.alter"
     ],
     "language": "python",
     "metadata": {},
     "outputs": [
      {
       "metadata": {},
       "output_type": "pyout",
       "prompt_number": 35,
       "text": [
        "-1.0"
       ]
      }
     ],
     "prompt_number": 35
    },
    {
     "cell_type": "code",
     "collapsed": false,
     "input": [
      "acc.displayLocation"
     ],
     "language": "python",
     "metadata": {},
     "outputs": [
      {
       "metadata": {},
       "output_type": "pyout",
       "prompt_number": 36,
       "text": [
        "'normal'"
       ]
      }
     ],
     "prompt_number": 36
    },
    {
     "cell_type": "markdown",
     "metadata": {},
     "source": [
      "Good to know that we've set a sensible default.  If you want to have the accidental\n",
      "display above the note, you'll have to set that yourself:"
     ]
    },
    {
     "cell_type": "code",
     "collapsed": false,
     "input": [
      "acc.displayLocation = 'above'"
     ],
     "language": "python",
     "metadata": {},
     "outputs": [],
     "prompt_number": 37
    },
    {
     "cell_type": "code",
     "collapsed": false,
     "input": [
      "acc.displayLocation"
     ],
     "language": "python",
     "metadata": {},
     "outputs": [
      {
       "metadata": {},
       "output_type": "pyout",
       "prompt_number": 38,
       "text": [
        "'above'"
       ]
      }
     ],
     "prompt_number": 38
    },
    {
     "cell_type": "markdown",
     "metadata": {},
     "source": [
      "Our variable `\"acc\"` is the **exact** accidental that is attached to the B-flat\n",
      "Note stored as `bflat`.  It's not a flat that's similar to B-flat's flat, but\n",
      "the same one. (in computer-speak, `acc` is a *reference* to `.accidental`). So\n",
      "now if we look at the `.displayLocation` of `bflat.accidental` we see that it\n",
      "too is set to the silly \"above\" position:"
     ]
    },
    {
     "cell_type": "code",
     "collapsed": false,
     "input": [
      "bflat.accidental.displayLocation"
     ],
     "language": "python",
     "metadata": {},
     "outputs": [
      {
       "metadata": {},
       "output_type": "pyout",
       "prompt_number": 39,
       "text": [
        "'above'"
       ]
      }
     ],
     "prompt_number": 39
    },
    {
     "cell_type": "markdown",
     "metadata": {},
     "source": [
      "Python is one of those cool computer languages where if an object doesn't have\n",
      "a particular attribute but you think it should, you can add it to the object\n",
      "(some people find that this makes objects messy, but I don't mind it).  For \n",
      "what I hope are obvious reasons, the `Note` object does not have an attribute called\n",
      "\"`wasWrittenByStockhausen`\".  So if you try to access it, you'll get an error:"
     ]
    },
    {
     "cell_type": "code",
     "collapsed": false,
     "input": [
      "bflat.wasWrittenByStockhausen"
     ],
     "language": "python",
     "metadata": {},
     "outputs": [
      {
       "ename": "AttributeError",
       "evalue": "'Note' object has no attribute 'wasWrittenByStockhausen'",
       "output_type": "pyerr",
       "traceback": [
        "Traceback \u001b[0;36m(most recent call last)\u001b[0m:\n",
        "\u001b[0;36m  File \u001b[0;32m\"<ipython-input-40-3e7bfdcb790a>\"\u001b[0;36m, line \u001b[0;32m1\u001b[0;36m, in \u001b[0;35m<module>\u001b[0;36m\u001b[0m\n\u001b[0;31m    bflat.wasWrittenByStockhausen\u001b[0m\n",
        "\u001b[0;31mAttributeError\u001b[0m\u001b[0;31m:\u001b[0m 'Note' object has no attribute 'wasWrittenByStockhausen'\n"
       ]
      }
     ],
     "prompt_number": 40
    },
    {
     "cell_type": "code",
     "collapsed": false,
     "input": [],
     "language": "python",
     "metadata": {},
     "outputs": [],
     "prompt_number": 40
    }
   ],
   "metadata": {}
  }
 ]
}