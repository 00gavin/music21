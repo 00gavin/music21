{
 "cells": [
  {
   "cell_type": "code",
   "execution_count": 3,
   "metadata": {
    "collapsed": false
   },
   "outputs": [],
   "source": [
    "# ignore this\n",
    "%load_ext music21.ipython21"
   ]
  },
  {
   "cell_type": "markdown",
   "metadata": {},
   "source": [
    "# User's Guide, Chapter 10: File Formats (1)"
   ]
  },
  {
   "cell_type": "markdown",
   "metadata": {},
   "source": [
    "Music21 can import and export a variety of musical data formats. Many examples\n",
    "of these formats are distributed with music21 as part of the corpus module (see\n",
    ":ref:`moduleCorpus`). \n",
    "\n",
    "The converter module, as well as the module function\n",
    ":func:`music21.converter.parse` handle importing all supported formats. For\n",
    "complete documentation on file and data formats, see :ref:`moduleConverter`."
   ]
  },
  {
   "cell_type": "markdown",
   "metadata": {},
   "source": [
    "## Parsing MusicXML Files"
   ]
  },
  {
   "cell_type": "markdown",
   "metadata": {},
   "source": [
    "We can parse a MusicXML file by providing the :func:`music21.converter.parse`\n",
    "function with a local file path or an URL to a file path. The function will\n",
    "determine the file format. An appropriate :class:`~music21.stream.Stream`  or\n",
    "Stream subclass will be returned. For example, given a MusicXML file stored at\n",
    "the file path \"/Users/cuthbert/_scratch/bwv1007-01.xml\", a Stream can be created\n",
    "from the file with the following."
   ]
  },
  {
   "cell_type": "code",
   "execution_count": 4,
   "metadata": {
    "collapsed": false
   },
   "outputs": [],
   "source": [
    "from music21 import *\n",
    "#_DOCS_SHOW c = converter.parse('/Users/cuthbert/Desktop/myXML.xml')"
   ]
  },
  {
   "cell_type": "markdown",
   "metadata": {},
   "source": [
    "Alternative, we can provide a URL to the :func:`music21.converter.parse`\n",
    "function that points to the desired file. Assuming proper system configuration\n",
    "(see :ref:`environment`), the file will be downloaded and parsed."
   ]
  },
  {
   "cell_type": "code",
   "execution_count": 5,
   "metadata": {
    "collapsed": false
   },
   "outputs": [
    {
     "data": {
      "image/png": "[encoded data removed]",
      "text/plain": [
       "<music21.ipython21.objects.IPythonPNGObject at 0x105a5be80>"
      ]
     },
     "execution_count": 5,
     "metadata": {},
     "output_type": "execute_result"
    }
   ],
   "source": [
    "url = 'http://kern.ccarh.org/cgi-bin/ksdata?l=cc/bach/cello&file=bwv1007-01.krn&f=xml'\n",
    "sAlt = converter.parse(url)\n",
    "sAlt[1][:6].show() # show first 5 measures"
   ]
  },
  {
   "cell_type": "markdown",
   "metadata": {},
   "source": [
    "Note that presently music21 offers limited support for compressed .mxl MusicXML files; this feature will be expanded in the future."
   ]
  },
  {
   "cell_type": "markdown",
   "metadata": {},
   "source": [
    "## Getting MusicXML Files"
   ]
  },
  {
   "cell_type": "markdown",
   "metadata": {},
   "source": [
    "Numerous MusicXML files can be found at the following URLs.\n",
    "\n",
    "http://kern.ccarh.org\n",
    "http://www.gutenberg.org"
   ]
  },
  {
   "cell_type": "markdown",
   "metadata": {},
   "source": [
    "## Parsing Humdrum Files"
   ]
  },
  {
   "cell_type": "markdown",
   "metadata": {},
   "source": [
    "Parsing Humdrum files is exactly as parsing other data formats. Simply call the music21.converter.parse() function on the desired file path or URL."
   ]
  },
  {
   "cell_type": "code",
   "execution_count": 6,
   "metadata": {
    "collapsed": false
   },
   "outputs": [],
   "source": [
    "sBach = converter.parse('http://kern.ccarh.org/cgi-bin/ksdata?l=users/craig/classical/bach/cello&file=bwv1007-01.krn&f=kern') "
   ]
  },
  {
   "cell_type": "markdown",
   "metadata": {},
   "source": [
    "## Getting Humdrum Files"
   ]
  },
  {
   "cell_type": "markdown",
   "metadata": {},
   "source": [
    "Over one hundred thousand Kern files can be found at the following URL.\n",
    "\n",
    "http://kern.humdrum.org/"
   ]
  },
  {
   "cell_type": "markdown",
   "metadata": {},
   "source": [
    "## Parsing ABC Files"
   ]
  },
  {
   "cell_type": "markdown",
   "metadata": {},
   "source": [
    "Parsing ABC files is exactly as parsing other data formats. Simply call the\n",
    ":func:`music21.converter.parse` function on the desired file path or URL."
   ]
  },
  {
   "cell_type": "code",
   "execution_count": 7,
   "metadata": {
    "collapsed": false
   },
   "outputs": [],
   "source": [
    "#_DOCS_SHOW o = converter.parse('/Users/cuthbert/Documents/Music21/praludium.abc')"
   ]
  },
  {
   "cell_type": "markdown",
   "metadata": {},
   "source": [
    "Note that many ABC files define more than one complete musical work. If an ABC\n",
    "file defines more than one work, an :class:`~music21.stream.Opus` object is\n",
    "returned. Opus objects, a Stream subclass, provide convenience methods for\n",
    "accessing multiple Score objects.\n",
    "\n",
    "Reference work numbers (e.g., the \"X:\" metadata tag in ABC) are stored in\n",
    ":class:`~music21.metadata.Metadata` objects in each contained Score. Access to\n",
    "these numbers from the Opus is available with the\n",
    ":meth:`music21.stream.Opus.getNumbers` method. Additionally, the\n",
    ":class:`~music21.stream.Score` object can be directly obtained with the\n",
    ":meth:`~music21.stream.Opus.getScoreByNumber` method."
   ]
  },
  {
   "cell_type": "code",
   "execution_count": 8,
   "metadata": {
    "collapsed": false
   },
   "outputs": [
    {
     "data": {
      "text/plain": [
       "['1', '2', '3']"
      ]
     },
     "execution_count": 8,
     "metadata": {},
     "output_type": "execute_result"
    }
   ],
   "source": [
    "o = corpus.parse('josquin/ovenusbant')\n",
    "o.getNumbers()"
   ]
  },
  {
   "cell_type": "code",
   "execution_count": 9,
   "metadata": {
    "collapsed": false
   },
   "outputs": [
    {
     "data": {
      "text/plain": [
       "'O Venus bant'"
      ]
     },
     "execution_count": 9,
     "metadata": {},
     "output_type": "execute_result"
    }
   ],
   "source": [
    "s = o.getScoreByNumber(2)\n",
    "s.metadata.title"
   ]
  },
  {
   "cell_type": "markdown",
   "metadata": {},
   "source": [
    "Direct access to Score objects contained in an Opus by title is available with\n",
    "the :meth:`~music21.stream.Opus.getScoreByTitle` method."
   ]
  },
  {
   "cell_type": "code",
   "execution_count": 10,
   "metadata": {
    "collapsed": false
   },
   "outputs": [],
   "source": [
    "o = corpus.parse('essenFolksong/erk5')\n",
    "s = o.getScoreByTitle('Vrienden, kommt alle gaere')"
   ]
  },
  {
   "cell_type": "markdown",
   "metadata": {},
   "source": [
    "In some cases an ABC file may define individual parts each as a separate score.\n",
    "When parsed, these parts can be combined from the Opus into a single Score with\n",
    "the :meth:`music21.stream.Opus.mergeScores` method. "
   ]
  },
  {
   "cell_type": "code",
   "execution_count": 11,
   "metadata": {
    "collapsed": false
   },
   "outputs": [
    {
     "data": {
      "text/plain": [
       "'Mille regrets'"
      ]
     },
     "execution_count": 11,
     "metadata": {},
     "output_type": "execute_result"
    }
   ],
   "source": [
    "o = corpus.parse('josquin/milleRegrets')\n",
    "s = o.mergeScores()\n",
    "s.metadata.title"
   ]
  },
  {
   "cell_type": "code",
   "execution_count": 12,
   "metadata": {
    "collapsed": false
   },
   "outputs": [
    {
     "data": {
      "text/plain": [
       "4"
      ]
     },
     "execution_count": 12,
     "metadata": {},
     "output_type": "execute_result"
    }
   ],
   "source": [
    "len(s.parts)"
   ]
  },
  {
   "cell_type": "markdown",
   "metadata": {},
   "source": [
    "## Getting ABC Files"
   ]
  },
  {
   "cell_type": "markdown",
   "metadata": {},
   "source": [
    "Large collections of ABC are available from numerous on-line repositories. The\n",
    "following links are just a few of the many resources available. \n",
    "\n",
    "http://abcnotation.com\n",
    "\n",
    "http://www.serpentpublications.org"
   ]
  },
  {
   "cell_type": "markdown",
   "metadata": {},
   "source": [
    "## Parsing Musedata Files"
   ]
  },
  {
   "cell_type": "markdown",
   "metadata": {},
   "source": [
    "Both stage 1 and stage 2 Musedata file formats are supported by Music21.\n",
    "Multi-part Musedata (stage 2) files, zipped archives, and directories\n",
    "containing individual files for each part (stage 1 or stage 2) can be imported\n",
    "with the :func:`music21.converter.parse` function on the desired file path or\n",
    "URL.\n",
    "\n",
    "Note that access restrictions prevent demonstrating Musedata conversion."
   ]
  },
  {
   "cell_type": "markdown",
   "metadata": {},
   "source": [
    "## Parsing MIDI Files"
   ]
  },
  {
   "cell_type": "markdown",
   "metadata": {},
   "source": [
    "MIDI input and output is handled in the same was other formats. Simply call the\n",
    ":func:`music21.converter.parse` function on the desired file path or URL."
   ]
  }
 ],
 "metadata": {
  "kernelspec": {
   "display_name": "Python 3",
   "language": "python",
   "name": "python3"
  },
  "language_info": {
   "codemirror_mode": {
    "name": "ipython",
    "version": 3
   },
   "file_extension": ".py",
   "mimetype": "text/x-python",
   "name": "python",
   "nbconvert_exporter": "python",
   "pygments_lexer": "ipython3",
   "version": "3.4.3"
  }
 },
 "nbformat": 4,
 "nbformat_minor": 0
}
