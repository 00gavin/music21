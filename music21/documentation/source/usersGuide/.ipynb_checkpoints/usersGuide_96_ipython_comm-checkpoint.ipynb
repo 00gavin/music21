{
 "metadata": {
  "name": "",
  "signature": "sha256:e78ef814c6a9dccf77f2dc7135ae0bc73d53efc6bc24d5adeccf3725fc3ee736"
 },
 "nbformat": 3,
 "nbformat_minor": 0,
 "worksheets": [
  {
   "cells": [
    {
     "cell_type": "code",
     "collapsed": false,
     "input": [
      "# ignore this\n",
      "%load_ext music21.ipython21.ipExtension"
     ],
     "language": "python",
     "metadata": {},
     "outputs": [],
     "prompt_number": 1
    },
    {
     "cell_type": "code",
     "collapsed": false,
     "input": [
      "from music21 import *"
     ],
     "language": "python",
     "metadata": {},
     "outputs": [],
     "prompt_number": 2
    },
    {
     "cell_type": "code",
     "collapsed": false,
     "input": [
      "from IPython.display import HTML"
     ],
     "language": "python",
     "metadata": {},
     "outputs": [],
     "prompt_number": 3
    },
    {
     "cell_type": "code",
     "collapsed": false,
     "input": [
      "HTML(\"<script data-main='http://web.mit.edu/music21/music21j/src/music21' src='http://web.mit.edu/music21/music21j/ext/require/require.js'></script>\")"
     ],
     "language": "python",
     "metadata": {},
     "outputs": [
      {
       "html": [
        "<script data-main='http://web.mit.edu/music21/music21j/src/music21' src='http://web.mit.edu/music21/music21j/ext/require/require.js'></script>"
       ],
       "metadata": {},
       "output_type": "pyout",
       "prompt_number": 7,
       "text": [
        "<IPython.core.display.HTML at 0x1059f8ad0>"
       ]
      }
     ],
     "prompt_number": 7
    },
    {
     "cell_type": "code",
     "collapsed": false,
     "input": [
      "HTML(\"\"\"\n",
      "<script data-main='http://web.mit.edu/music21/music21j/src/music21' \n",
      "src='http://web.mit.edu/music21/music21j/ext/require/require.js'></script>\n",
      "\n",
      "<script>\n",
      "console.log('heya');\n",
      "require(['music21'], function(music21) {\n",
      "  console.log('helllo');\n",
      "  var n = new music21.note.Note(\"C#4\");\n",
      "  var s = new music21.stream.Stream();\n",
      "  s.append(n);\n",
      "  s.appendNewCanvas();\n",
      "})\n",
      "</script>\n",
      "\"\"\")"
     ],
     "language": "python",
     "metadata": {},
     "outputs": [
      {
       "html": [
        "\n",
        "<script data-main='http://web.mit.edu/music21/music21j/src/music21' \n",
        "src='http://web.mit.edu/music21/music21j/ext/require/require.js'></script>\n",
        "\n",
        "<script>\n",
        "console.log('heya');\n",
        "require(['music21'], function(music21) {\n",
        "  console.log('helllo');\n",
        "  var n = new music21.note.Note(\"C#4\");\n",
        "  var s = new music21.stream.Stream();\n",
        "  s.append(n);\n",
        "  s.appendNewCanvas();\n",
        "})\n",
        "</script>\n"
       ],
       "metadata": {},
       "output_type": "pyout",
       "prompt_number": 16,
       "text": [
        "<IPython.core.display.HTML at 0x106fe5ed0>"
       ]
      }
     ],
     "prompt_number": 16
    },
    {
     "cell_type": "code",
     "collapsed": false,
     "input": [
      "# Example from http://jakevdp.github.io/blog/2013/06/01/ipython-notebook-javascript-python-communication/ adapted for IPython 2.0\n",
      "# Add an input form similar to what we saw above\n",
      "input_form = \"\"\"\n",
      "<div style=\"background-color:gainsboro; border:solid black; width:600px; padding:20px;\">\n",
      "Code: <input type=\"text\" id=\"code_input\" size=\"50\" height=\"2\" value=\"sin(pi / 2)\"><br>\n",
      "Result: <input type=\"text\" id=\"result_output\" size=\"50\" value=\"1.0\"><br>\n",
      "<button onclick=\"exec_code()\">Execute</button>\n",
      "</div>\n",
      "\"\"\"\n",
      " \n",
      "# here the javascript has a function to execute the code\n",
      "# within the input box, and a callback to handle the output.\n",
      "javascript = \"\"\"\n",
      "<script type=\"text/Javascript\">\n",
      "   function getData(msg) {\n",
      "       var data = handle_output(msg);\n",
      "       document.getElementById(\"result_output\").value = data;       \n",
      "   }\n",
      "\n",
      "\n",
      "   function handle_output(out){\n",
      "       console.log(out);\n",
      "       var res = null;\n",
      "        // if output is a print statement\n",
      "       if(out.msg_type == \"stream\"){\n",
      "           res = out.content.data;\n",
      "       }\n",
      "       // if output is a python object\n",
      "       else if(out.msg_type === \"pyout\"){\n",
      "           res = out.content.data[\"text/plain\"];\n",
      "       }\n",
      "       // if output is a python error\n",
      "       else if(out.msg_type == \"pyerr\"){\n",
      "           res = out.content.ename + \": \" + out.content.evalue;\n",
      "       }\n",
      "       // if output is something we haven't thought of\n",
      "       else{\n",
      "           res = \"[out type not implemented]\";  \n",
      "       }\n",
      "       return res;\n",
      "   }\n",
      "   \n",
      "   function exec_code(){\n",
      "       var code_input = document.getElementById('code_input').value;\n",
      "       var kernel = IPython.notebook.kernel;\n",
      "       var callbacks = { 'iopub' : {'output' : getData}};\n",
      "       document.getElementById(\"result_output\").value = \"\";  // clear output box\n",
      "       var msg_id = kernel.execute(code_input, callbacks, {silent:false});\n",
      "       console.log(\"button pressed\");\n",
      "       // IPython.notebook.clear_output();\n",
      "   }\n",
      "</script>\n",
      "\"\"\"\n",
      " \n",
      "HTML(input_form + javascript)"
     ],
     "language": "python",
     "metadata": {},
     "outputs": [
      {
       "html": [
        "\n",
        "<div style=\"background-color:gainsboro; border:solid black; width:600px; padding:20px;\">\n",
        "Code: <input type=\"text\" id=\"code_input\" size=\"50\" height=\"2\" value=\"sin(pi / 2)\"><br>\n",
        "Result: <input type=\"text\" id=\"result_output\" size=\"50\" value=\"1.0\"><br>\n",
        "<button onclick=\"exec_code()\">Execute</button>\n",
        "</div>\n",
        "\n",
        "<script type=\"text/Javascript\">\n",
        "   function getData(msg) {\n",
        "       var data = handle_output(msg);\n",
        "       document.getElementById(\"result_output\").value = data;       \n",
        "   }\n",
        "\n",
        "\n",
        "   function handle_output(out){\n",
        "       console.log(out);\n",
        "       var res = null;\n",
        "        // if output is a print statement\n",
        "       if(out.msg_type == \"stream\"){\n",
        "           res = out.content.data;\n",
        "       }\n",
        "       // if output is a python object\n",
        "       else if(out.msg_type === \"pyout\"){\n",
        "           res = out.content.data[\"text/plain\"];\n",
        "       }\n",
        "       // if output is a python error\n",
        "       else if(out.msg_type == \"pyerr\"){\n",
        "           res = out.content.ename + \": \" + out.content.evalue;\n",
        "       }\n",
        "       // if output is something we haven't thought of\n",
        "       else{\n",
        "           res = \"[out type not implemented]\";  \n",
        "       }\n",
        "       return res;\n",
        "   }\n",
        "   \n",
        "   function exec_code(){\n",
        "       var code_input = document.getElementById('code_input').value;\n",
        "       var kernel = IPython.notebook.kernel;\n",
        "       var callbacks = { 'iopub' : {'output' : getData}};\n",
        "       document.getElementById(\"result_output\").value = \"\";  // clear output box\n",
        "       var msg_id = kernel.execute(code_input, callbacks, {silent:false});\n",
        "       console.log(\"button pressed\");\n",
        "       // IPython.notebook.clear_output();\n",
        "   }\n",
        "</script>\n"
       ],
       "metadata": {},
       "output_type": "pyout",
       "prompt_number": 5,
       "text": [
        "<IPython.core.display.HTML at 0x106fe5cd0>"
       ]
      }
     ],
     "prompt_number": 5
    },
    {
     "cell_type": "code",
     "collapsed": false,
     "input": [],
     "language": "python",
     "metadata": {},
     "outputs": []
    }
   ],
   "metadata": {}
  }
 ]
}