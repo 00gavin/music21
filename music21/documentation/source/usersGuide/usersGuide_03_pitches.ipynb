{
 "cells": [
  {
   "cell_type": "code",
   "execution_count": 1,
   "metadata": {
    "collapsed": false
   },
   "outputs": [],
   "source": [
    "# ignore this\n",
    "%load_ext music21.ipython21.ipExtension"
   ]
  },
  {
   "cell_type": "markdown",
   "metadata": {},
   "source": [
    "# User's Guide, Chapter 3: Pitches, Durations, and Notes again"
   ]
  },
  {
   "cell_type": "markdown",
   "metadata": {},
   "source": [
    "Now that you've made a couple of `Note` objects, it's time\n",
    "to dig a little deeper into what makes a `Note` really a\n",
    "`Note`, namely, :ref:`modulePitch`, and :ref:`moduleDuration`\n",
    "objects. "
   ]
  },
  {
   "cell_type": "markdown",
   "metadata": {},
   "source": [
    "## The Pitch object"
   ]
  },
  {
   "cell_type": "markdown",
   "metadata": {},
   "source": [
    "Since we've already covered `Note` objects, :class:`~music21.pitch.Pitch` objects\n",
    "will be a breeze.  Just like how the `Note` object is found\n",
    "in the `note` module, the `Pitch` object is found in the\n",
    "`pitch` module.\n",
    "\n",
    "Let's create a `Pitch`.  Like we did with `Notes`, just\n",
    "class the class with a note name, such as `B` with\n",
    "the optional symbols for sharp or flat, \n",
    "(*#* or *-* respectively). \n",
    "\n",
    "You can put an octave number after the name, but you\n",
    "don't have to:"
   ]
  },
  {
   "cell_type": "code",
   "execution_count": 2,
   "metadata": {
    "collapsed": false
   },
   "outputs": [],
   "source": [
    "from music21 import *\n",
    "p1 = pitch.Pitch('b-4')"
   ]
  },
  {
   "cell_type": "markdown",
   "metadata": {},
   "source": [
    "Here we'll use a more abstract variable name, `p1`\n",
    "for our first `Pitch`, just in case we change the pitch\n",
    "later (via `.transpose()` or something else)."
   ]
  },
  {
   "cell_type": "markdown",
   "metadata": {},
   "source": [
    "Just like we saw with `Notes` there are a lot of\n",
    "attributes (a.k.a. properties; we'll use the term\n",
    "interchangeably for a bit before we talk about the\n",
    "difference) and methods that describe and change\n",
    "pitches.  The first three will be old hat from\n",
    "`Note` objects:"
   ]
  },
  {
   "cell_type": "code",
   "execution_count": 3,
   "metadata": {
    "collapsed": false
   },
   "outputs": [
    {
     "data": {
      "text/plain": [
       "4"
      ]
     },
     "execution_count": 3,
     "metadata": {},
     "output_type": "execute_result"
    }
   ],
   "source": [
    "p1.octave"
   ]
  },
  {
   "cell_type": "code",
   "execution_count": 4,
   "metadata": {
    "collapsed": false
   },
   "outputs": [
    {
     "data": {
      "text/plain": [
       "10"
      ]
     },
     "execution_count": 4,
     "metadata": {},
     "output_type": "execute_result"
    }
   ],
   "source": [
    "p1.pitchClass"
   ]
  },
  {
   "cell_type": "code",
   "execution_count": 5,
   "metadata": {
    "collapsed": false
   },
   "outputs": [
    {
     "data": {
      "text/plain": [
       "'B-'"
      ]
     },
     "execution_count": 5,
     "metadata": {},
     "output_type": "execute_result"
    }
   ],
   "source": [
    "p1.name"
   ]
  },
  {
   "cell_type": "code",
   "execution_count": 6,
   "metadata": {
    "collapsed": false
   },
   "outputs": [
    {
     "data": {
      "text/plain": [
       "-1.0"
      ]
     },
     "execution_count": 6,
     "metadata": {},
     "output_type": "execute_result"
    }
   ],
   "source": [
    "p1.accidental.alter"
   ]
  },
  {
   "cell_type": "markdown",
   "metadata": {},
   "source": [
    "Here are two more that you can use.  The first\n",
    "is pretty self-explanatory.  The second gives the\n",
    "value of the `Pitch` in the older, \"MIDI\" representation\n",
    "that is still in use today.  It's a number between 0 and\n",
    "127 where middle C (C4) is 60 and C#4/Db4 is 61, B3 is 59,\n",
    "etc."
   ]
  },
  {
   "cell_type": "code",
   "execution_count": 7,
   "metadata": {
    "collapsed": false
   },
   "outputs": [
    {
     "data": {
      "text/plain": [
       "'B-4'"
      ]
     },
     "execution_count": 7,
     "metadata": {},
     "output_type": "execute_result"
    }
   ],
   "source": [
    "p1.nameWithOctave"
   ]
  },
  {
   "cell_type": "code",
   "execution_count": 8,
   "metadata": {
    "collapsed": false
   },
   "outputs": [
    {
     "data": {
      "text/plain": [
       "70"
      ]
     },
     "execution_count": 8,
     "metadata": {},
     "output_type": "execute_result"
    }
   ],
   "source": [
    "p1.midi"
   ]
  },
  {
   "cell_type": "markdown",
   "metadata": {},
   "source": [
    "Most of these attributes can be changed (they are\n",
    "\"settable properties\" in Python speak)."
   ]
  },
  {
   "cell_type": "markdown",
   "metadata": {},
   "source": [
    "When an attribute is set, the `Pitch` object changes whatever\n",
    "is necessary to reflect the new value:"
   ]
  },
  {
   "cell_type": "code",
   "execution_count": 9,
   "metadata": {
    "collapsed": false
   },
   "outputs": [
    {
     "data": {
      "text/plain": [
       "'D#3'"
      ]
     },
     "execution_count": 9,
     "metadata": {},
     "output_type": "execute_result"
    }
   ],
   "source": [
    "p1.name = 'd#'\n",
    "p1.octave = 3\n",
    "p1.nameWithOctave"
   ]
  },
  {
   "cell_type": "markdown",
   "metadata": {},
   "source": [
    "And our familiar `.transpose()` method also appears on\n",
    "`Pitch` as well.  Remember that `p1` is now a `D#`:"
   ]
  },
  {
   "cell_type": "code",
   "execution_count": 10,
   "metadata": {
    "collapsed": false
   },
   "outputs": [
    {
     "data": {
      "text/plain": [
       "<music21.pitch.Pitch C##4>"
      ]
     },
     "execution_count": 10,
     "metadata": {},
     "output_type": "execute_result"
    }
   ],
   "source": [
    "p2 = p1.transpose('M7')\n",
    "p2"
   ]
  },
  {
   "cell_type": "markdown",
   "metadata": {},
   "source": [
    "Notice that at the command line, just printing the variable name\n",
    "gives you the representation `<music21.pitch.Pitch C##4>`.  You\n",
    "can also get this by typing `repr(p2)`."
   ]
  },
  {
   "cell_type": "markdown",
   "metadata": {},
   "source": [
    "So, there's really nothing new about `Pitch` objects\n",
    "that you didn't already know from learning about `Notes`. So\n",
    "why the two different objects?  It turns out, they are so\n",
    "similar because actually every `Note` object has a `Pitch`\n",
    "object inside it (like the monster in *Alien* but more\n",
    "benign).  Everything that we did with the `note.Note`\n",
    "object, we could do with the `note.Note.pitch` object instead:"
   ]
  },
  {
   "cell_type": "code",
   "execution_count": 11,
   "metadata": {
    "collapsed": false
   },
   "outputs": [
    {
     "data": {
      "text/plain": [
       "'C#'"
      ]
     },
     "execution_count": 11,
     "metadata": {},
     "output_type": "execute_result"
    }
   ],
   "source": [
    "csharp = note.Note('C#4')\n",
    "csharp.name"
   ]
  },
  {
   "cell_type": "code",
   "execution_count": 12,
   "metadata": {
    "collapsed": false
   },
   "outputs": [
    {
     "data": {
      "text/plain": [
       "'C#'"
      ]
     },
     "execution_count": 12,
     "metadata": {},
     "output_type": "execute_result"
    }
   ],
   "source": [
    "csharp.pitch.name"
   ]
  },
  {
   "cell_type": "code",
   "execution_count": 13,
   "metadata": {
    "collapsed": false
   },
   "outputs": [
    {
     "data": {
      "text/plain": [
       "<accidental sharp>"
      ]
     },
     "execution_count": 13,
     "metadata": {},
     "output_type": "execute_result"
    }
   ],
   "source": [
    "csharp.accidental"
   ]
  },
  {
   "cell_type": "code",
   "execution_count": 14,
   "metadata": {
    "collapsed": false
   },
   "outputs": [
    {
     "data": {
      "text/plain": [
       "<accidental sharp>"
      ]
     },
     "execution_count": 14,
     "metadata": {},
     "output_type": "execute_result"
    }
   ],
   "source": [
    "csharp.pitch.accidental"
   ]
  },
  {
   "cell_type": "code",
   "execution_count": 15,
   "metadata": {
    "collapsed": false
   },
   "outputs": [
    {
     "data": {
      "text/plain": [
       "'do sostenido'"
      ]
     },
     "execution_count": 15,
     "metadata": {},
     "output_type": "execute_result"
    }
   ],
   "source": [
    "csharp.pitch.spanish"
   ]
  },
  {
   "cell_type": "code",
   "execution_count": 16,
   "metadata": {
    "collapsed": false
   },
   "outputs": [
    {
     "ename": "AttributeError",
     "evalue": "'Note' object has no attribute 'spanish'",
     "output_type": "error",
     "traceback": [
      "\u001b[0;31m---------------------------------------------------------------------------\u001b[0m",
      "\u001b[0;31mAttributeError\u001b[0m                            Traceback (most recent call last)",
      "\u001b[0;32m<ipython-input-16-8c908c31b14e>\u001b[0m in \u001b[0;36m<module>\u001b[0;34m()\u001b[0m\n\u001b[0;32m----> 1\u001b[0;31m \u001b[0mcsharp\u001b[0m\u001b[0;34m.\u001b[0m\u001b[0mspanish\u001b[0m\u001b[0;34m\u001b[0m\u001b[0m\n\u001b[0m",
      "\u001b[0;31mAttributeError\u001b[0m: 'Note' object has no attribute 'spanish'"
     ]
    }
   ],
   "source": [
    "csharp.spanish"
   ]
  },
  {
   "cell_type": "markdown",
   "metadata": {},
   "source": [
    "*By the way, you know how we said that you shouldn't have\n",
    "a variable named* `pitch` *because there's already a module\n",
    "named* `pitch`. *You might wonder why* `Note` *objects can\n",
    "have an attribute named* `pitch` *without causing any problems.\n",
    "It's because the* `.pitch` *attribute is always attached to\n",
    "a* `Note` *, so it's never used without a prefix of some sort\n",
    "(in this case,* `csharp.pitch` *), and that's enough to\n",
    "prevent any trouble.*"
   ]
  },
  {
   "cell_type": "markdown",
   "metadata": {},
   "source": [
    "So far, it looks like `Pitch` objects can do everything `Note`\n",
    "objects can do and more.  So why do we need `Note` objects?\n",
    "It's because they also have `Duration` attributes, as we'll see\n",
    "in the next section. Without a `Duration` attribute, you cannot put\n",
    "an object into a Measure or show it on your screen."
   ]
  },
  {
   "cell_type": "markdown",
   "metadata": {},
   "source": [
    "## Carving time with Duration objects"
   ]
  },
  {
   "cell_type": "markdown",
   "metadata": {},
   "source": [
    "For a `Note` to occupy musical space, it has to last a certain\n",
    "amount of time.  We call that time the `Note`'s :class:`~music21.duration.Duration`.\n",
    "`Duration` objects are ubiquitous in music21. Nearly all objects have, \n",
    "or can have, a `Duration`. A `Duration` object can represent just about \n",
    "any time span.\n",
    "\n",
    "`Duration` objects are best used when they're attached to something\n",
    "else, like a `Note` or a `Rest`, but for now, let's look at what\n",
    "we can do with them on their own.\n",
    "\n",
    "`Duration` objects reside in the `duration` module.  When you create\n",
    "a `Duration` object, you can say what type of duration you want it to\n",
    "be when you create it.\n",
    "\n",
    "Here we'll create the duration of a half note:"
   ]
  },
  {
   "cell_type": "code",
   "execution_count": 17,
   "metadata": {
    "collapsed": false
   },
   "outputs": [],
   "source": [
    "halfDuration = duration.Duration('half')"
   ]
  },
  {
   "cell_type": "markdown",
   "metadata": {},
   "source": [
    "The string \"half\" is called the \"type\" of the `Duration`.\n",
    "Music21 `Durations` use the common American duration types:\n",
    "\"whole\", \"half\", \"quarter\", \"eighth\", \"16th\", \"32nd\", \"64th\".\n",
    "Note that for durations shorter than an eighth note, we use\n",
    "numbers instead of spelling out the whole name of the `Duration`\n",
    "type.  Music21 also supports less commonly used types such as\n",
    "\"breve\" (2 whole notes), \"longa\" (4 whole notes), and \"maxima\"\n",
    "(8 whole notes) and on the other side, \"128th\", \"256th\", etc.\n",
    "down to \"2048th\" notes. (Some of these very long and very short\n",
    "notes can't be displayed in many musical notation systems,\n",
    "but it's good to know that we're ready when they are).\n",
    "\n",
    "The other standard way of creating a `Duration` is by passing it a \n",
    "number when it is created.  That number represents how many quarter\n",
    "notes long it is.  So we could have created our half note `Duration`\n",
    "by saying `2` or `2.0`.  But we can also create `Durations` that\n",
    "aren't exactly \"whole\", \"half\", \"quarter\", etc.  Let's create a\n",
    "dotted quarter note, which is 1.5 quarter notes long:"
   ]
  },
  {
   "cell_type": "code",
   "execution_count": 18,
   "metadata": {
    "collapsed": false
   },
   "outputs": [],
   "source": [
    "dottedQuarter = duration.Duration(1.5)"
   ]
  },
  {
   "cell_type": "markdown",
   "metadata": {},
   "source": [
    "As with the `Pitch` and `Note` objects we've already seen, there\n",
    "are a bunch of attributes that `Duration` objects have.  The\n",
    "most important one is `.quarterLength`.  The :attr:`~music21.duration.Duration.quarterLength` \n",
    "of our `dottedQuarter` variable is of course 1.5: we set it to be.\n",
    "But just as importantly, the `halfDuration` object also\n",
    "has its quarterLength set:"
   ]
  },
  {
   "cell_type": "code",
   "execution_count": 19,
   "metadata": {
    "collapsed": false
   },
   "outputs": [
    {
     "data": {
      "text/plain": [
       "1.5"
      ]
     },
     "execution_count": 19,
     "metadata": {},
     "output_type": "execute_result"
    }
   ],
   "source": [
    "dottedQuarter.quarterLength"
   ]
  },
  {
   "cell_type": "code",
   "execution_count": 20,
   "metadata": {
    "collapsed": false
   },
   "outputs": [
    {
     "data": {
      "text/plain": [
       "2.0"
      ]
     },
     "execution_count": 20,
     "metadata": {},
     "output_type": "execute_result"
    }
   ],
   "source": [
    "halfDuration.quarterLength"
   ]
  },
  {
   "cell_type": "markdown",
   "metadata": {},
   "source": [
    "The `.type` attribute tells you what general type of `Duration`\n",
    "you have:"
   ]
  },
  {
   "cell_type": "code",
   "execution_count": 21,
   "metadata": {
    "collapsed": false
   },
   "outputs": [
    {
     "data": {
      "text/plain": [
       "'half'"
      ]
     },
     "execution_count": 21,
     "metadata": {},
     "output_type": "execute_result"
    }
   ],
   "source": [
    "halfDuration.type"
   ]
  },
  {
   "cell_type": "code",
   "execution_count": 22,
   "metadata": {
    "collapsed": false
   },
   "outputs": [
    {
     "data": {
      "text/plain": [
       "'quarter'"
      ]
     },
     "execution_count": 22,
     "metadata": {},
     "output_type": "execute_result"
    }
   ],
   "source": [
    "dottedQuarter.type"
   ]
  },
  {
   "cell_type": "markdown",
   "metadata": {},
   "source": [
    "The `type` attribute cannot be everything that describes the\n",
    "`Duration`, there has to be some place where music21 keeps\n",
    "track of the fact that the `dottedQuarter` variable has a dot\n",
    "(otherwise it wouldn't have a `quarterLength` of 1.5).  You'll\n",
    "find the attribute called `.dots`:"
   ]
  },
  {
   "cell_type": "code",
   "execution_count": 23,
   "metadata": {
    "collapsed": false
   },
   "outputs": [
    {
     "data": {
      "text/plain": [
       "0"
      ]
     },
     "execution_count": 23,
     "metadata": {},
     "output_type": "execute_result"
    }
   ],
   "source": [
    "halfDuration.dots"
   ]
  },
  {
   "cell_type": "code",
   "execution_count": 24,
   "metadata": {
    "collapsed": false
   },
   "outputs": [
    {
     "data": {
      "text/plain": [
       "1"
      ]
     },
     "execution_count": 24,
     "metadata": {},
     "output_type": "execute_result"
    }
   ],
   "source": [
    "dottedQuarter.dots"
   ]
  },
  {
   "cell_type": "markdown",
   "metadata": {},
   "source": [
    "The attributes of `dots`, `type`, and `quarterLength` are\n",
    "actually special attributes called \"properties\".  A property\n",
    "is an attribute that is smart in some way.  Let's change the\n",
    "number of dots on our `dottedQuarter` object and see what\n",
    "happens to the `quarterLength` property:"
   ]
  },
  {
   "cell_type": "code",
   "execution_count": 25,
   "metadata": {
    "collapsed": false
   },
   "outputs": [
    {
     "data": {
      "text/plain": [
       "1.75"
      ]
     },
     "execution_count": 25,
     "metadata": {},
     "output_type": "execute_result"
    }
   ],
   "source": [
    "dottedQuarter.dots = 2\n",
    "dottedQuarter.quarterLength"
   ]
  },
  {
   "cell_type": "code",
   "execution_count": 26,
   "metadata": {
    "collapsed": false
   },
   "outputs": [
    {
     "data": {
      "text/plain": [
       "1.875"
      ]
     },
     "execution_count": 26,
     "metadata": {},
     "output_type": "execute_result"
    }
   ],
   "source": [
    "dottedQuarter.dots = 3\n",
    "dottedQuarter.quarterLength"
   ]
  },
  {
   "cell_type": "code",
   "execution_count": 27,
   "metadata": {
    "collapsed": false
   },
   "outputs": [
    {
     "data": {
      "text/plain": [
       "1.9375"
      ]
     },
     "execution_count": 27,
     "metadata": {},
     "output_type": "execute_result"
    }
   ],
   "source": [
    "dottedQuarter.dots = 4\n",
    "dottedQuarter.quarterLength"
   ]
  },
  {
   "cell_type": "markdown",
   "metadata": {},
   "source": [
    "Or let's change the `quarterLength` of the dottedQuarter and\n",
    "see what happens to the `type` and `dots`:"
   ]
  },
  {
   "cell_type": "code",
   "execution_count": 28,
   "metadata": {
    "collapsed": false
   },
   "outputs": [
    {
     "data": {
      "text/plain": [
       "'16th'"
      ]
     },
     "execution_count": 28,
     "metadata": {},
     "output_type": "execute_result"
    }
   ],
   "source": [
    "dottedQuarter.quarterLength = 0.25\n",
    "dottedQuarter.type"
   ]
  },
  {
   "cell_type": "code",
   "execution_count": 29,
   "metadata": {
    "collapsed": false
   },
   "outputs": [
    {
     "data": {
      "text/plain": [
       "0"
      ]
     },
     "execution_count": 29,
     "metadata": {},
     "output_type": "execute_result"
    }
   ],
   "source": [
    "dottedQuarter.dots"
   ]
  },
  {
   "cell_type": "markdown",
   "metadata": {},
   "source": [
    "QuarterLengths are so important to music21 that we'll sometimes\n",
    "abbreviate them as `qL` or `qLs`.  Almost everything that is\n",
    "measured in music21 is measured in `qLs`.  \n",
    "\n",
    "There are sometimes `Durations` that can't be expressed easily\n",
    "as a single written `Note` on a page.  For instance, a `Note`\n",
    "lasting a half-note plus a sixteenth-note can't be written as\n",
    "a single `Note` graphic, but it's perfectly fine to use as a\n",
    "quarterLength"
   ]
  },
  {
   "cell_type": "code",
   "execution_count": 30,
   "metadata": {
    "collapsed": false
   },
   "outputs": [],
   "source": [
    "dottedQuarter.quarterLength = 2.25"
   ]
  },
  {
   "cell_type": "markdown",
   "metadata": {},
   "source": [
    "The `type` for these odd values is called \"complex\":"
   ]
  },
  {
   "cell_type": "code",
   "execution_count": 31,
   "metadata": {
    "collapsed": false
   },
   "outputs": [
    {
     "data": {
      "text/plain": [
       "'complex'"
      ]
     },
     "execution_count": 31,
     "metadata": {},
     "output_type": "execute_result"
    }
   ],
   "source": [
    "dottedQuarter.type"
   ]
  },
  {
   "cell_type": "markdown",
   "metadata": {},
   "source": [
    "Complex types have multiple \"DurationTuple\" (v.2.1+) or \"DurationUnit\"(pre v.2.0.10) objects in `.components` that represent the smaller, simple durations that make up the entire Duration:"
   ]
  },
  {
   "cell_type": "code",
   "execution_count": 37,
   "metadata": {
    "collapsed": false
   },
   "outputs": [
    {
     "data": {
      "text/plain": [
       "[<music21.duration.DurationUnit 2.0>, <music21.duration.DurationUnit 0.25>]"
      ]
     },
     "execution_count": 37,
     "metadata": {},
     "output_type": "execute_result"
    }
   ],
   "source": [
    "dottedQuarter.components"
   ]
  },
  {
   "cell_type": "markdown",
   "metadata": {},
   "source": [
    "*(There's one more strange* `type` *called \"zero\" for\n",
    "Durations that don't have any Duration at all.  It's\n",
    "used for measuring the conceptual length of grace notes,\n",
    "spaceless objects like* `Clefs`, *Kim Kardashian's marriages,\n",
    "etc.  We'll get to it later)*"
   ]
  },
  {
   "cell_type": "markdown",
   "metadata": {},
   "source": [
    "The :meth:`~music21.base.Music21Object.show` method \n",
    "will show that weird `2.25` Duration.  We have to first assign it to a note:"
   ]
  },
  {
   "cell_type": "code",
   "execution_count": 32,
   "metadata": {
    "collapsed": false
   },
   "outputs": [
    {
     "data": {
      "image/png": "[encoded data removed]",
      "text/plain": [
       "<music21.ipython21.objects.IPythonPNGObject at 0x103c60550>"
      ]
     },
     "execution_count": 32,
     "metadata": {},
     "output_type": "execute_result"
    }
   ],
   "source": [
    "n = note.Note()\n",
    "n.duration = dottedQuarter\n",
    "n.show()"
   ]
  },
  {
   "cell_type": "markdown",
   "metadata": {},
   "source": [
    "Music21 can also deal with other `quarterLengths` such as 0.8,\n",
    "which is 4/5ths of a quarter note, or 1/3 which is an eighth note triplet.\n",
    "Just be careful when creating triplets, because of a weird Python 2 quirk\n",
    "that makes it so that if you divide two integers you always get back just\n",
    "the integer part of the number, so 8/3 is 2, since 8/3 is 2.66666... and\n",
    "the integer part is 2:"
   ]
  },
  {
   "cell_type": "code",
   "execution_count": 33,
   "metadata": {
    "collapsed": false
   },
   "outputs": [
    {
     "data": {
      "text/plain": [
       "2"
      ]
     },
     "execution_count": 33,
     "metadata": {},
     "output_type": "execute_result"
    }
   ],
   "source": [
    "8/3"
   ]
  },
  {
   "cell_type": "code",
   "execution_count": 34,
   "metadata": {
    "collapsed": false
   },
   "outputs": [
    {
     "data": {
      "text/plain": [
       "0"
      ]
     },
     "execution_count": 34,
     "metadata": {},
     "output_type": "execute_result"
    }
   ],
   "source": [
    "1/3"
   ]
  },
  {
   "cell_type": "markdown",
   "metadata": {},
   "source": [
    "To get the number you probably want either use Python 3 or make sure that at least one\n",
    "of the numbers you are dividing is a float.  So:"
   ]
  },
  {
   "cell_type": "code",
   "execution_count": 35,
   "metadata": {
    "collapsed": false
   },
   "outputs": [
    {
     "data": {
      "text/plain": [
       "2.6666666666666665"
      ]
     },
     "execution_count": 35,
     "metadata": {},
     "output_type": "execute_result"
    }
   ],
   "source": [
    "8.0/3.0"
   ]
  },
  {
   "cell_type": "code",
   "execution_count": 36,
   "metadata": {
    "collapsed": false
   },
   "outputs": [
    {
     "data": {
      "text/plain": [
       "0.3333333333333333"
      ]
     },
     "execution_count": 36,
     "metadata": {},
     "output_type": "execute_result"
    }
   ],
   "source": [
    "1.0/3"
   ]
  },
  {
   "cell_type": "markdown",
   "metadata": {},
   "source": [
    "You can go ahead and make a Triplet or other :class:`~music21.duration.Tuplet`\n",
    "now, but we'll get to Triplets later."
   ]
  },
  {
   "cell_type": "markdown",
   "metadata": {},
   "source": [
    "## Back to Notes"
   ]
  },
  {
   "cell_type": "markdown",
   "metadata": {},
   "source": [
    "So now you can see the advantage of working with `Note` objects: they\n",
    "have both a `.pitch` attribute, which contains a `Pitch` object, and\n",
    "a `.duration` attribute, which contains a `Duration` object.  The\n",
    "default `Pitch` for a `Note` is `C` (meaning `C4`) \n",
    "and the default `Duration` is 1.0, or a quarter note."
   ]
  },
  {
   "cell_type": "code",
   "execution_count": 39,
   "metadata": {
    "collapsed": false
   },
   "outputs": [
    {
     "data": {
      "text/plain": [
       "<music21.pitch.Pitch C4>"
      ]
     },
     "execution_count": 39,
     "metadata": {},
     "output_type": "execute_result"
    }
   ],
   "source": [
    "n1 = note.Note()\n",
    "n1.pitch"
   ]
  },
  {
   "cell_type": "code",
   "execution_count": 40,
   "metadata": {
    "collapsed": false
   },
   "outputs": [
    {
     "data": {
      "text/plain": [
       "<music21.duration.Duration 1.0>"
      ]
     },
     "execution_count": 40,
     "metadata": {},
     "output_type": "execute_result"
    }
   ],
   "source": [
    "n1.duration"
   ]
  },
  {
   "cell_type": "markdown",
   "metadata": {},
   "source": [
    "But we can play around with them:"
   ]
  },
  {
   "cell_type": "code",
   "execution_count": 41,
   "metadata": {
    "collapsed": false
   },
   "outputs": [],
   "source": [
    "n1.pitch.nameWithOctave = 'E-5'\n",
    "n1.duration.quarterLength = 3.0"
   ]
  },
  {
   "cell_type": "markdown",
   "metadata": {},
   "source": [
    "and then the other properties change accordingly:"
   ]
  },
  {
   "cell_type": "code",
   "execution_count": 42,
   "metadata": {
    "collapsed": false
   },
   "outputs": [
    {
     "data": {
      "text/plain": [
       "'half'"
      ]
     },
     "execution_count": 42,
     "metadata": {},
     "output_type": "execute_result"
    }
   ],
   "source": [
    "n1.duration.type"
   ]
  },
  {
   "cell_type": "code",
   "execution_count": 43,
   "metadata": {
    "collapsed": false
   },
   "outputs": [
    {
     "data": {
      "text/plain": [
       "1"
      ]
     },
     "execution_count": 43,
     "metadata": {},
     "output_type": "execute_result"
    }
   ],
   "source": [
    "n1.duration.dots"
   ]
  },
  {
   "cell_type": "code",
   "execution_count": 44,
   "metadata": {
    "collapsed": false
   },
   "outputs": [
    {
     "data": {
      "text/plain": [
       "'E-'"
      ]
     },
     "execution_count": 44,
     "metadata": {},
     "output_type": "execute_result"
    }
   ],
   "source": [
    "n1.pitch.name"
   ]
  },
  {
   "cell_type": "code",
   "execution_count": 45,
   "metadata": {
    "collapsed": false
   },
   "outputs": [
    {
     "data": {
      "text/plain": [
       "<accidental flat>"
      ]
     },
     "execution_count": 45,
     "metadata": {},
     "output_type": "execute_result"
    }
   ],
   "source": [
    "n1.pitch.accidental"
   ]
  },
  {
   "cell_type": "code",
   "execution_count": 46,
   "metadata": {
    "collapsed": false
   },
   "outputs": [
    {
     "data": {
      "text/plain": [
       "5"
      ]
     },
     "execution_count": 46,
     "metadata": {},
     "output_type": "execute_result"
    }
   ],
   "source": [
    "n1.octave"
   ]
  },
  {
   "cell_type": "markdown",
   "metadata": {},
   "source": [
    "We already said that some of the attributes of `Pitch` can\n",
    "also be called on the `Note` object itself.  The same is\n",
    "true for the most important attributes of `Duration`:"
   ]
  },
  {
   "cell_type": "code",
   "execution_count": 47,
   "metadata": {
    "collapsed": false
   },
   "outputs": [
    {
     "data": {
      "text/plain": [
       "'E-'"
      ]
     },
     "execution_count": 47,
     "metadata": {},
     "output_type": "execute_result"
    }
   ],
   "source": [
    "n1.name"
   ]
  },
  {
   "cell_type": "code",
   "execution_count": 48,
   "metadata": {
    "collapsed": false
   },
   "outputs": [
    {
     "data": {
      "text/plain": [
       "3.0"
      ]
     },
     "execution_count": 48,
     "metadata": {},
     "output_type": "execute_result"
    }
   ],
   "source": [
    "n1.quarterLength"
   ]
  },
  {
   "cell_type": "code",
   "execution_count": 49,
   "metadata": {
    "collapsed": false
   },
   "outputs": [
    {
     "data": {
      "text/plain": [
       "<accidental flat>"
      ]
     },
     "execution_count": 49,
     "metadata": {},
     "output_type": "execute_result"
    }
   ],
   "source": [
    "n1.accidental"
   ]
  },
  {
   "cell_type": "markdown",
   "metadata": {},
   "source": [
    "Let's change the quarterLength back to 1.0 for now:"
   ]
  },
  {
   "cell_type": "code",
   "execution_count": 50,
   "metadata": {
    "collapsed": false
   },
   "outputs": [],
   "source": [
    "n1.quarterLength = 1.0"
   ]
  },
  {
   "cell_type": "markdown",
   "metadata": {},
   "source": [
    "`Notes` can do things that neither `Pitch` or `Duration`\n",
    "objects can do.  For instance, they can have lyrics.\n",
    "Let's add some lyrics to `Notes`.  You can easily set :class:`~music21.note.Lyric`\n",
    "objects just by setting the :meth:`lyric <music21.note.GeneralNote.lyric>` property. (For reference, the `lyric` attribute is actually an attribute of :class:`~music21.note.GeneralNote`, which is a \"base class\" from which the `Note` class \"inherits\". In other words, the `Note` class gains the `lyric` attribute from `GeneralNote`. But that's not too important.)"
   ]
  },
  {
   "cell_type": "code",
   "execution_count": 51,
   "metadata": {
    "collapsed": false
   },
   "outputs": [],
   "source": [
    "otherNote = note.Note(\"F6\")\n",
    "otherNote.lyric = \"I'm the Queen of the Night!\""
   ]
  },
  {
   "cell_type": "markdown",
   "metadata": {},
   "source": [
    "But let's do something more complex.  Here I add multiple lyrics\n",
    "to `n1` using the `Note's` :meth:`~music21.note.GeneralNote.addLyric` method.\n",
    "And instead of adding a simple String, I'll add as a lyric the name of the\n",
    "note itself and its `pitchClassString`. "
   ]
  },
  {
   "cell_type": "code",
   "execution_count": 52,
   "metadata": {
    "collapsed": false
   },
   "outputs": [],
   "source": [
    "n1.addLyric(n1.nameWithOctave)\n",
    "n1.addLyric(n1.pitchClassString)"
   ]
  },
  {
   "cell_type": "markdown",
   "metadata": {},
   "source": [
    "Finally, lets put the `quarterLength` of the note as a string with a\n",
    "preface \"QL: \":"
   ]
  },
  {
   "cell_type": "code",
   "execution_count": 53,
   "metadata": {
    "collapsed": false
   },
   "outputs": [],
   "source": [
    "n1.addLyric('QL: %s' % n1.quarterLength)"
   ]
  },
  {
   "cell_type": "markdown",
   "metadata": {},
   "source": [
    "The format '`QL: %s`' says to put the first thing outside the quotes\n",
    "in place of `%s` as a string (the \"s\" in `%s` means to make it a\n",
    "string.  Remember that `.quarterLength` is not a string, but a \n",
    "float)."
   ]
  },
  {
   "cell_type": "markdown",
   "metadata": {},
   "source": [
    "As it should be becoming clear, we can always check our work \n",
    "with the :meth:`~music21.base.Music21Object.show` method."
   ]
  },
  {
   "cell_type": "code",
   "execution_count": 54,
   "metadata": {
    "collapsed": false
   },
   "outputs": [
    {
     "data": {
      "image/png": "[encoded data removed]",
      "text/plain": [
       "<music21.ipython21.objects.IPythonPNGObject at 0x1070a3fd0>"
      ]
     },
     "execution_count": 54,
     "metadata": {},
     "output_type": "execute_result"
    }
   ],
   "source": [
    "n1.show()"
   ]
  },
  {
   "cell_type": "markdown",
   "metadata": {},
   "source": [
    "If we now edit the :meth:`quarterLength <music21.base.Music21Object.quarterLength>` property we can still change the\n",
    "`Note`'s `Duration`. But because we already set the lyric to show\n",
    "\"`QL: 1.0`, it won't be changed when we `.show()` it again in the following \n",
    "example."
   ]
  },
  {
   "cell_type": "code",
   "execution_count": 55,
   "metadata": {
    "collapsed": false
   },
   "outputs": [
    {
     "data": {
      "image/png": "[encoded data removed]",
      "text/plain": [
       "<music21.ipython21.objects.IPythonPNGObject at 0x1059f2bd0>"
      ]
     },
     "execution_count": 55,
     "metadata": {},
     "output_type": "execute_result"
    }
   ],
   "source": [
    "n1.quarterLength = 6.25\n",
    "n1.show()"
   ]
  },
  {
   "cell_type": "markdown",
   "metadata": {},
   "source": [
    "There many more things we can do with a `Note` object, but\n",
    "I'm itching to look at what happens when we put multiple\n",
    "`Notes` together in a row.  And to do that we'll need to\n",
    "learn a bit about the topic of the next chapter: :ref:`Streams <usersGuide_04_stream1>`."
   ]
  }
 ],
 "metadata": {
  "kernelspec": {
   "display_name": "Python 2",
   "language": "python",
   "name": "python2"
  },
  "language_info": {
   "codemirror_mode": {
    "name": "ipython",
    "version": 2
   },
   "file_extension": ".py",
   "mimetype": "text/x-python",
   "name": "python",
   "nbconvert_exporter": "python",
   "pygments_lexer": "ipython2",
   "version": "2.7.10"
  }
 },
 "nbformat": 4,
 "nbformat_minor": 0
}
